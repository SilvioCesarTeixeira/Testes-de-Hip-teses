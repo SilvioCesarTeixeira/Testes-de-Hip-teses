{
  "nbformat": 4,
  "nbformat_minor": 0,
  "metadata": {
    "colab": {
      "name": "S4-Aula10Pynotes.ipynb",
      "provenance": [],
      "collapsed_sections": [],
      "include_colab_link": true
    },
    "kernelspec": {
      "name": "python3",
      "display_name": "Python 3"
    },
    "language_info": {
      "name": "python"
    }
  },
  "cells": [
    {
      "cell_type": "markdown",
      "metadata": {
        "id": "view-in-github",
        "colab_type": "text"
      },
      "source": [
        "<a href=\"https://colab.research.google.com/github/SilvioCesarTeixeira/Testes-de-Hipoteses/blob/main/S4_Aula10Pynotes.ipynb\" target=\"_parent\"><img src=\"https://colab.research.google.com/assets/colab-badge.svg\" alt=\"Open In Colab\"/></a>"
      ]
    },
    {
      "cell_type": "markdown",
      "source": [
        "# Videoaula 10 Adequação de modelos e regressão não linear"
      ],
      "metadata": {
        "id": "dGoQTWG-bzGK"
      }
    },
    {
      "cell_type": "markdown",
      "source": [
        "## Exemplo 2: GT Auto"
      ],
      "metadata": {
        "id": "B_J3vUFVb4JQ"
      }
    },
    {
      "cell_type": "code",
      "source": [
        "import numpy as np\n",
        "import pandas as pd\n",
        "import matplotlib.pyplot as plt\n",
        "import statsmodels.api as sm\n",
        "from statsmodels.formula.api import ols\n",
        "import seaborn as sns\n",
        "from statsmodels.graphics.gofplots import ProbPlot\n",
        "plt.style.use('seaborn')\n",
        "plt.rc('axes', titlesize=10)"
      ],
      "metadata": {
        "id": "pDrxMQnfRDSO",
        "colab": {
          "base_uri": "https://localhost:8080/"
        },
        "outputId": "9d29814e-56e4-4066-b6de-9a1f1582f3c1"
      },
      "execution_count": 3,
      "outputs": [
        {
          "output_type": "stream",
          "name": "stderr",
          "text": [
            "/usr/local/lib/python3.7/dist-packages/statsmodels/tools/_testing.py:19: FutureWarning: pandas.util.testing is deprecated. Use the functions in the public API at pandas.testing instead.\n",
            "  import pandas.util.testing as tm\n"
          ]
        }
      ]
    },
    {
      "cell_type": "code",
      "execution_count": null,
      "metadata": {
        "colab": {
          "resources": {
            "http://localhost:8080/nbextensions/google.colab/files.js": {
              "data": "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",
              "ok": true,
              "headers": [
                [
                  "content-type",
                  "application/javascript"
                ]
              ],
              "status": 200,
              "status_text": ""
            }
          },
          "base_uri": "https://localhost:8080/",
          "height": 73
        },
        "id": "zbj6EuEiJ-jo",
        "outputId": "88a7e907-d15b-4c97-d239-467948362715"
      },
      "outputs": [
        {
          "output_type": "display_data",
          "data": {
            "text/html": [
              "\n",
              "     <input type=\"file\" id=\"files-1b30d62d-ffff-4760-a8ec-741db3ed45dc\" name=\"files[]\" multiple disabled\n",
              "        style=\"border:none\" />\n",
              "     <output id=\"result-1b30d62d-ffff-4760-a8ec-741db3ed45dc\">\n",
              "      Upload widget is only available when the cell has been executed in the\n",
              "      current browser session. Please rerun this cell to enable.\n",
              "      </output>\n",
              "      <script src=\"/nbextensions/google.colab/files.js\"></script> "
            ],
            "text/plain": [
              "<IPython.core.display.HTML object>"
            ]
          },
          "metadata": {}
        },
        {
          "output_type": "stream",
          "name": "stdout",
          "text": [
            "Saving carst.csv to carst.csv\n"
          ]
        }
      ],
      "source": [
        "from google.colab import files\n",
        "uploaded = files.upload()"
      ]
    },
    {
      "cell_type": "code",
      "source": [
        "#Observar os dados\n",
        "import io\n",
        "#import pandas as pd\n",
        "df = pd.read_csv(io.StringIO(uploaded['carst.csv'].decode('utf-8')))\n",
        "df.head(30)\n"
      ],
      "metadata": {
        "colab": {
          "base_uri": "https://localhost:8080/",
          "height": 927
        },
        "id": "mq6PGxgkKVfK",
        "outputId": "6bd7399c-afbd-4637-8948-1f7e4168b0d9"
      },
      "execution_count": null,
      "outputs": [
        {
          "output_type": "execute_result",
          "data": {
            "text/html": [
              "\n",
              "  <div id=\"df-bdfc8a30-1d49-49c7-a5ca-db3537df30be\">\n",
              "    <div class=\"colab-df-container\">\n",
              "      <div>\n",
              "<style scoped>\n",
              "    .dataframe tbody tr th:only-of-type {\n",
              "        vertical-align: middle;\n",
              "    }\n",
              "\n",
              "    .dataframe tbody tr th {\n",
              "        vertical-align: top;\n",
              "    }\n",
              "\n",
              "    .dataframe thead th {\n",
              "        text-align: right;\n",
              "    }\n",
              "</style>\n",
              "<table border=\"1\" class=\"dataframe\">\n",
              "  <thead>\n",
              "    <tr style=\"text-align: right;\">\n",
              "      <th></th>\n",
              "      <th>brand/model/year</th>\n",
              "      <th>cap_vol</th>\n",
              "      <th>consumo</th>\n",
              "      <th>power</th>\n",
              "      <th>weight</th>\n",
              "      <th>cemm</th>\n",
              "      <th>nu_cy</th>\n",
              "      <th>Etype</th>\n",
              "    </tr>\n",
              "  </thead>\n",
              "  <tbody>\n",
              "    <tr>\n",
              "      <th>0</th>\n",
              "      <td>Gurgel BR800 0.8 1991</td>\n",
              "      <td>792</td>\n",
              "      <td>12.0</td>\n",
              "      <td>33</td>\n",
              "      <td>650</td>\n",
              "      <td>34.4</td>\n",
              "      <td>2</td>\n",
              "      <td>0</td>\n",
              "    </tr>\n",
              "    <tr>\n",
              "      <th>1</th>\n",
              "      <td>FIAT UNO Mille EP 1996</td>\n",
              "      <td>994</td>\n",
              "      <td>10.4</td>\n",
              "      <td>58</td>\n",
              "      <td>870</td>\n",
              "      <td>18.6</td>\n",
              "      <td>4</td>\n",
              "      <td>0</td>\n",
              "    </tr>\n",
              "    <tr>\n",
              "      <th>2</th>\n",
              "      <td>Hyundai HB20 Sense 2020</td>\n",
              "      <td>1000</td>\n",
              "      <td>12.8</td>\n",
              "      <td>80</td>\n",
              "      <td>989</td>\n",
              "      <td>14.5</td>\n",
              "      <td>3</td>\n",
              "      <td>0</td>\n",
              "    </tr>\n",
              "    <tr>\n",
              "      <th>3</th>\n",
              "      <td>FIAT Strada 1.4 2016</td>\n",
              "      <td>1368</td>\n",
              "      <td>10.3</td>\n",
              "      <td>86</td>\n",
              "      <td>1084</td>\n",
              "      <td>12.5</td>\n",
              "      <td>4</td>\n",
              "      <td>0</td>\n",
              "    </tr>\n",
              "    <tr>\n",
              "      <th>4</th>\n",
              "      <td>VolksWagen GOL 1.6 2015</td>\n",
              "      <td>1598</td>\n",
              "      <td>10.5</td>\n",
              "      <td>104</td>\n",
              "      <td>961</td>\n",
              "      <td>9.8</td>\n",
              "      <td>4</td>\n",
              "      <td>0</td>\n",
              "    </tr>\n",
              "    <tr>\n",
              "      <th>5</th>\n",
              "      <td>Chevrolet Cruze LTZ 1.8 2016</td>\n",
              "      <td>1796</td>\n",
              "      <td>8.5</td>\n",
              "      <td>144</td>\n",
              "      <td>1427</td>\n",
              "      <td>10.2</td>\n",
              "      <td>4</td>\n",
              "      <td>0</td>\n",
              "    </tr>\n",
              "    <tr>\n",
              "      <th>6</th>\n",
              "      <td>Honda Civic EXR 2016</td>\n",
              "      <td>1997</td>\n",
              "      <td>9.5</td>\n",
              "      <td>155</td>\n",
              "      <td>1294</td>\n",
              "      <td>10.9</td>\n",
              "      <td>4</td>\n",
              "      <td>0</td>\n",
              "    </tr>\n",
              "    <tr>\n",
              "      <th>7</th>\n",
              "      <td>Ford Focus 2.0 GLX 2012</td>\n",
              "      <td>1999</td>\n",
              "      <td>9.2</td>\n",
              "      <td>148</td>\n",
              "      <td>1347</td>\n",
              "      <td>10.4</td>\n",
              "      <td>4</td>\n",
              "      <td>0</td>\n",
              "    </tr>\n",
              "    <tr>\n",
              "      <th>8</th>\n",
              "      <td>BMW 325i 3.0 2012</td>\n",
              "      <td>2996</td>\n",
              "      <td>6.5</td>\n",
              "      <td>218</td>\n",
              "      <td>1460</td>\n",
              "      <td>7.1</td>\n",
              "      <td>6</td>\n",
              "      <td>0</td>\n",
              "    </tr>\n",
              "    <tr>\n",
              "      <th>9</th>\n",
              "      <td>AUDI A4 3.2 V6 Fsi 2011</td>\n",
              "      <td>3197</td>\n",
              "      <td>7.1</td>\n",
              "      <td>269</td>\n",
              "      <td>1610</td>\n",
              "      <td>6.4</td>\n",
              "      <td>6</td>\n",
              "      <td>0</td>\n",
              "    </tr>\n",
              "    <tr>\n",
              "      <th>10</th>\n",
              "      <td>Mercedes-Benz CLS 350 3.5 V6 2012</td>\n",
              "      <td>3498</td>\n",
              "      <td>6.6</td>\n",
              "      <td>306</td>\n",
              "      <td>1735</td>\n",
              "      <td>6.1</td>\n",
              "      <td>6</td>\n",
              "      <td>0</td>\n",
              "    </tr>\n",
              "    <tr>\n",
              "      <th>11</th>\n",
              "      <td>Mercedes-Benz CLS 500 5.5 V8 2007</td>\n",
              "      <td>5461</td>\n",
              "      <td>4.2</td>\n",
              "      <td>388</td>\n",
              "      <td>1760</td>\n",
              "      <td>5.4</td>\n",
              "      <td>8</td>\n",
              "      <td>0</td>\n",
              "    </tr>\n",
              "    <tr>\n",
              "      <th>12</th>\n",
              "      <td>Chevrolet Camaro SS 6.2 V8 2018</td>\n",
              "      <td>6162</td>\n",
              "      <td>6.4</td>\n",
              "      <td>461</td>\n",
              "      <td>1709</td>\n",
              "      <td>4.2</td>\n",
              "      <td>8</td>\n",
              "      <td>0</td>\n",
              "    </tr>\n",
              "    <tr>\n",
              "      <th>13</th>\n",
              "      <td>Pagani Zonda F 7.3 V12 2006</td>\n",
              "      <td>7291</td>\n",
              "      <td>3.0</td>\n",
              "      <td>602</td>\n",
              "      <td>1230</td>\n",
              "      <td>3.6</td>\n",
              "      <td>12</td>\n",
              "      <td>0</td>\n",
              "    </tr>\n",
              "    <tr>\n",
              "      <th>14</th>\n",
              "      <td>Volkswagen Polo Highline 1.0 Tsi 2021</td>\n",
              "      <td>999</td>\n",
              "      <td>11.4</td>\n",
              "      <td>128</td>\n",
              "      <td>1147</td>\n",
              "      <td>9.6</td>\n",
              "      <td>3</td>\n",
              "      <td>1</td>\n",
              "    </tr>\n",
              "    <tr>\n",
              "      <th>15</th>\n",
              "      <td>Chevrolet Tracker Premier 1.2 T 2021</td>\n",
              "      <td>1199</td>\n",
              "      <td>11.2</td>\n",
              "      <td>133</td>\n",
              "      <td>1271</td>\n",
              "      <td>9.4</td>\n",
              "      <td>3</td>\n",
              "      <td>1</td>\n",
              "    </tr>\n",
              "    <tr>\n",
              "      <th>16</th>\n",
              "      <td>Chevrolet Cruze LTZ 1.4 T 2021</td>\n",
              "      <td>1399</td>\n",
              "      <td>11.0</td>\n",
              "      <td>153</td>\n",
              "      <td>1321</td>\n",
              "      <td>9.0</td>\n",
              "      <td>4</td>\n",
              "      <td>1</td>\n",
              "    </tr>\n",
              "    <tr>\n",
              "      <th>17</th>\n",
              "      <td>Honda Civic Touring 1.5 T 2021</td>\n",
              "      <td>1498</td>\n",
              "      <td>11.0</td>\n",
              "      <td>173</td>\n",
              "      <td>1329</td>\n",
              "      <td>8.6</td>\n",
              "      <td>4</td>\n",
              "      <td>1</td>\n",
              "    </tr>\n",
              "    <tr>\n",
              "      <th>18</th>\n",
              "      <td>Peugeot 306 Griffe 1.6 THP 2019</td>\n",
              "      <td>1598</td>\n",
              "      <td>10.6</td>\n",
              "      <td>173</td>\n",
              "      <td>1392</td>\n",
              "      <td>8.3</td>\n",
              "      <td>4</td>\n",
              "      <td>1</td>\n",
              "    </tr>\n",
              "    <tr>\n",
              "      <th>19</th>\n",
              "      <td>Audi A4 Attraction 1.8 TSFi 2015</td>\n",
              "      <td>1798</td>\n",
              "      <td>8.7</td>\n",
              "      <td>170</td>\n",
              "      <td>1470</td>\n",
              "      <td>8.3</td>\n",
              "      <td>4</td>\n",
              "      <td>1</td>\n",
              "    </tr>\n",
              "    <tr>\n",
              "      <th>20</th>\n",
              "      <td>BMW 320i Sport 2.0 T 2020</td>\n",
              "      <td>1998</td>\n",
              "      <td>10.5</td>\n",
              "      <td>184</td>\n",
              "      <td>1460</td>\n",
              "      <td>7.1</td>\n",
              "      <td>4</td>\n",
              "      <td>1</td>\n",
              "    </tr>\n",
              "    <tr>\n",
              "      <th>21</th>\n",
              "      <td>Porsche Panamera 3.0 V6 2018</td>\n",
              "      <td>2995</td>\n",
              "      <td>7.8</td>\n",
              "      <td>330</td>\n",
              "      <td>1815</td>\n",
              "      <td>5.7</td>\n",
              "      <td>6</td>\n",
              "      <td>1</td>\n",
              "    </tr>\n",
              "    <tr>\n",
              "      <th>22</th>\n",
              "      <td>Honda NSX 3.5 V6 T 2017</td>\n",
              "      <td>3493</td>\n",
              "      <td>7.0</td>\n",
              "      <td>507</td>\n",
              "      <td>1725</td>\n",
              "      <td>3.3</td>\n",
              "      <td>6</td>\n",
              "      <td>1</td>\n",
              "    </tr>\n",
              "    <tr>\n",
              "      <th>23</th>\n",
              "      <td>Nissan GTR Nismo 3.8 V6 T 2015</td>\n",
              "      <td>3799</td>\n",
              "      <td>5.0</td>\n",
              "      <td>608</td>\n",
              "      <td>1729</td>\n",
              "      <td>2.7</td>\n",
              "      <td>6</td>\n",
              "      <td>1</td>\n",
              "    </tr>\n",
              "    <tr>\n",
              "      <th>24</th>\n",
              "      <td>Mercedes-Benz E63 S AMG 4.0 V8 2021</td>\n",
              "      <td>3982</td>\n",
              "      <td>6.1</td>\n",
              "      <td>612</td>\n",
              "      <td>1935</td>\n",
              "      <td>3.4</td>\n",
              "      <td>8</td>\n",
              "      <td>1</td>\n",
              "    </tr>\n",
              "    <tr>\n",
              "      <th>25</th>\n",
              "      <td>Aston Martin DB11 5.2 V12 T 2017</td>\n",
              "      <td>5204</td>\n",
              "      <td>2.6</td>\n",
              "      <td>608</td>\n",
              "      <td>1770</td>\n",
              "      <td>3.9</td>\n",
              "      <td>12</td>\n",
              "      <td>1</td>\n",
              "    </tr>\n",
              "    <tr>\n",
              "      <th>26</th>\n",
              "      <td>Pagani Huayra 6.0 V12 T 2014</td>\n",
              "      <td>5980</td>\n",
              "      <td>3.0</td>\n",
              "      <td>730</td>\n",
              "      <td>1350</td>\n",
              "      <td>3.3</td>\n",
              "      <td>12</td>\n",
              "      <td>1</td>\n",
              "    </tr>\n",
              "    <tr>\n",
              "      <th>27</th>\n",
              "      <td>Bugatti Chiron 8.0 W16 2016</td>\n",
              "      <td>7993</td>\n",
              "      <td>3.8</td>\n",
              "      <td>1500</td>\n",
              "      <td>1998</td>\n",
              "      <td>2.5</td>\n",
              "      <td>16</td>\n",
              "      <td>1</td>\n",
              "    </tr>\n",
              "  </tbody>\n",
              "</table>\n",
              "</div>\n",
              "      <button class=\"colab-df-convert\" onclick=\"convertToInteractive('df-bdfc8a30-1d49-49c7-a5ca-db3537df30be')\"\n",
              "              title=\"Convert this dataframe to an interactive table.\"\n",
              "              style=\"display:none;\">\n",
              "        \n",
              "  <svg xmlns=\"http://www.w3.org/2000/svg\" height=\"24px\"viewBox=\"0 0 24 24\"\n",
              "       width=\"24px\">\n",
              "    <path d=\"M0 0h24v24H0V0z\" fill=\"none\"/>\n",
              "    <path d=\"M18.56 5.44l.94 2.06.94-2.06 2.06-.94-2.06-.94-.94-2.06-.94 2.06-2.06.94zm-11 1L8.5 8.5l.94-2.06 2.06-.94-2.06-.94L8.5 2.5l-.94 2.06-2.06.94zm10 10l.94 2.06.94-2.06 2.06-.94-2.06-.94-.94-2.06-.94 2.06-2.06.94z\"/><path d=\"M17.41 7.96l-1.37-1.37c-.4-.4-.92-.59-1.43-.59-.52 0-1.04.2-1.43.59L10.3 9.45l-7.72 7.72c-.78.78-.78 2.05 0 2.83L4 21.41c.39.39.9.59 1.41.59.51 0 1.02-.2 1.41-.59l7.78-7.78 2.81-2.81c.8-.78.8-2.07 0-2.86zM5.41 20L4 18.59l7.72-7.72 1.47 1.35L5.41 20z\"/>\n",
              "  </svg>\n",
              "      </button>\n",
              "      \n",
              "  <style>\n",
              "    .colab-df-container {\n",
              "      display:flex;\n",
              "      flex-wrap:wrap;\n",
              "      gap: 12px;\n",
              "    }\n",
              "\n",
              "    .colab-df-convert {\n",
              "      background-color: #E8F0FE;\n",
              "      border: none;\n",
              "      border-radius: 50%;\n",
              "      cursor: pointer;\n",
              "      display: none;\n",
              "      fill: #1967D2;\n",
              "      height: 32px;\n",
              "      padding: 0 0 0 0;\n",
              "      width: 32px;\n",
              "    }\n",
              "\n",
              "    .colab-df-convert:hover {\n",
              "      background-color: #E2EBFA;\n",
              "      box-shadow: 0px 1px 2px rgba(60, 64, 67, 0.3), 0px 1px 3px 1px rgba(60, 64, 67, 0.15);\n",
              "      fill: #174EA6;\n",
              "    }\n",
              "\n",
              "    [theme=dark] .colab-df-convert {\n",
              "      background-color: #3B4455;\n",
              "      fill: #D2E3FC;\n",
              "    }\n",
              "\n",
              "    [theme=dark] .colab-df-convert:hover {\n",
              "      background-color: #434B5C;\n",
              "      box-shadow: 0px 1px 3px 1px rgba(0, 0, 0, 0.15);\n",
              "      filter: drop-shadow(0px 1px 2px rgba(0, 0, 0, 0.3));\n",
              "      fill: #FFFFFF;\n",
              "    }\n",
              "  </style>\n",
              "\n",
              "      <script>\n",
              "        const buttonEl =\n",
              "          document.querySelector('#df-bdfc8a30-1d49-49c7-a5ca-db3537df30be button.colab-df-convert');\n",
              "        buttonEl.style.display =\n",
              "          google.colab.kernel.accessAllowed ? 'block' : 'none';\n",
              "\n",
              "        async function convertToInteractive(key) {\n",
              "          const element = document.querySelector('#df-bdfc8a30-1d49-49c7-a5ca-db3537df30be');\n",
              "          const dataTable =\n",
              "            await google.colab.kernel.invokeFunction('convertToInteractive',\n",
              "                                                     [key], {});\n",
              "          if (!dataTable) return;\n",
              "\n",
              "          const docLinkHtml = 'Like what you see? Visit the ' +\n",
              "            '<a target=\"_blank\" href=https://colab.research.google.com/notebooks/data_table.ipynb>data table notebook</a>'\n",
              "            + ' to learn more about interactive tables.';\n",
              "          element.innerHTML = '';\n",
              "          dataTable['output_type'] = 'display_data';\n",
              "          await google.colab.output.renderOutput(dataTable, element);\n",
              "          const docLink = document.createElement('div');\n",
              "          docLink.innerHTML = docLinkHtml;\n",
              "          element.appendChild(docLink);\n",
              "        }\n",
              "      </script>\n",
              "    </div>\n",
              "  </div>\n",
              "  "
            ],
            "text/plain": [
              "                         brand/model/year  cap_vol  consumo  ...  cemm  nu_cy  Etype\n",
              "0                   Gurgel BR800 0.8 1991      792     12.0  ...  34.4      2      0\n",
              "1                  FIAT UNO Mille EP 1996      994     10.4  ...  18.6      4      0\n",
              "2                 Hyundai HB20 Sense 2020     1000     12.8  ...  14.5      3      0\n",
              "3                    FIAT Strada 1.4 2016     1368     10.3  ...  12.5      4      0\n",
              "4                 VolksWagen GOL 1.6 2015     1598     10.5  ...   9.8      4      0\n",
              "5            Chevrolet Cruze LTZ 1.8 2016     1796      8.5  ...  10.2      4      0\n",
              "6                    Honda Civic EXR 2016     1997      9.5  ...  10.9      4      0\n",
              "7                 Ford Focus 2.0 GLX 2012     1999      9.2  ...  10.4      4      0\n",
              "8                       BMW 325i 3.0 2012     2996      6.5  ...   7.1      6      0\n",
              "9                 AUDI A4 3.2 V6 Fsi 2011     3197      7.1  ...   6.4      6      0\n",
              "10      Mercedes-Benz CLS 350 3.5 V6 2012     3498      6.6  ...   6.1      6      0\n",
              "11      Mercedes-Benz CLS 500 5.5 V8 2007     5461      4.2  ...   5.4      8      0\n",
              "12        Chevrolet Camaro SS 6.2 V8 2018     6162      6.4  ...   4.2      8      0\n",
              "13            Pagani Zonda F 7.3 V12 2006     7291      3.0  ...   3.6     12      0\n",
              "14  Volkswagen Polo Highline 1.0 Tsi 2021      999     11.4  ...   9.6      3      1\n",
              "15   Chevrolet Tracker Premier 1.2 T 2021     1199     11.2  ...   9.4      3      1\n",
              "16         Chevrolet Cruze LTZ 1.4 T 2021     1399     11.0  ...   9.0      4      1\n",
              "17         Honda Civic Touring 1.5 T 2021     1498     11.0  ...   8.6      4      1\n",
              "18        Peugeot 306 Griffe 1.6 THP 2019     1598     10.6  ...   8.3      4      1\n",
              "19       Audi A4 Attraction 1.8 TSFi 2015     1798      8.7  ...   8.3      4      1\n",
              "20              BMW 320i Sport 2.0 T 2020     1998     10.5  ...   7.1      4      1\n",
              "21           Porsche Panamera 3.0 V6 2018     2995      7.8  ...   5.7      6      1\n",
              "22                Honda NSX 3.5 V6 T 2017     3493      7.0  ...   3.3      6      1\n",
              "23         Nissan GTR Nismo 3.8 V6 T 2015     3799      5.0  ...   2.7      6      1\n",
              "24    Mercedes-Benz E63 S AMG 4.0 V8 2021     3982      6.1  ...   3.4      8      1\n",
              "25       Aston Martin DB11 5.2 V12 T 2017     5204      2.6  ...   3.9     12      1\n",
              "26           Pagani Huayra 6.0 V12 T 2014     5980      3.0  ...   3.3     12      1\n",
              "27            Bugatti Chiron 8.0 W16 2016     7993      3.8  ...   2.5     16      1\n",
              "\n",
              "[28 rows x 8 columns]"
            ]
          },
          "metadata": {},
          "execution_count": 9
        }
      ]
    },
    {
      "cell_type": "code",
      "source": [
        "sns.lmplot(x='cap_vol', y='consumo',hue='Etype', data=df);plt.grid(True)"
      ],
      "metadata": {
        "colab": {
          "base_uri": "https://localhost:8080/",
          "height": 369
        },
        "id": "oio7uwljcIbA",
        "outputId": "10d3ac5b-4a53-45ba-ed0b-04831b9c7636"
      },
      "execution_count": null,
      "outputs": [
        {
          "output_type": "display_data",
          "data": {
            "image/png": "[encoded data removed]",
            "text/plain": [
              "<Figure size 401.625x360 with 1 Axes>"
            ]
          },
          "metadata": {}
        }
      ]
    },
    {
      "cell_type": "code",
      "source": [
        "df1 = df[df.Etype != 1]\n",
        "df1.head(15)"
      ],
      "metadata": {
        "colab": {
          "base_uri": "https://localhost:8080/",
          "height": 488
        },
        "id": "1_5bDBMEd2-B",
        "outputId": "4764898a-0034-4ce3-b134-9608ac5c476c"
      },
      "execution_count": null,
      "outputs": [
        {
          "output_type": "execute_result",
          "data": {
            "text/html": [
              "\n",
              "  <div id=\"df-29be46de-0cbf-483e-84e1-1d2f86fef88e\">\n",
              "    <div class=\"colab-df-container\">\n",
              "      <div>\n",
              "<style scoped>\n",
              "    .dataframe tbody tr th:only-of-type {\n",
              "        vertical-align: middle;\n",
              "    }\n",
              "\n",
              "    .dataframe tbody tr th {\n",
              "        vertical-align: top;\n",
              "    }\n",
              "\n",
              "    .dataframe thead th {\n",
              "        text-align: right;\n",
              "    }\n",
              "</style>\n",
              "<table border=\"1\" class=\"dataframe\">\n",
              "  <thead>\n",
              "    <tr style=\"text-align: right;\">\n",
              "      <th></th>\n",
              "      <th>brand/model/year</th>\n",
              "      <th>cap_vol</th>\n",
              "      <th>consumo</th>\n",
              "      <th>power</th>\n",
              "      <th>weight</th>\n",
              "      <th>cemm</th>\n",
              "      <th>nu_cy</th>\n",
              "      <th>Etype</th>\n",
              "    </tr>\n",
              "  </thead>\n",
              "  <tbody>\n",
              "    <tr>\n",
              "      <th>0</th>\n",
              "      <td>Gurgel BR800 0.8 1991</td>\n",
              "      <td>792</td>\n",
              "      <td>12.0</td>\n",
              "      <td>33</td>\n",
              "      <td>650</td>\n",
              "      <td>34.4</td>\n",
              "      <td>2</td>\n",
              "      <td>0</td>\n",
              "    </tr>\n",
              "    <tr>\n",
              "      <th>1</th>\n",
              "      <td>FIAT UNO Mille EP 1996</td>\n",
              "      <td>994</td>\n",
              "      <td>10.4</td>\n",
              "      <td>58</td>\n",
              "      <td>870</td>\n",
              "      <td>18.6</td>\n",
              "      <td>4</td>\n",
              "      <td>0</td>\n",
              "    </tr>\n",
              "    <tr>\n",
              "      <th>2</th>\n",
              "      <td>Hyundai HB20 Sense 2020</td>\n",
              "      <td>1000</td>\n",
              "      <td>12.8</td>\n",
              "      <td>80</td>\n",
              "      <td>989</td>\n",
              "      <td>14.5</td>\n",
              "      <td>3</td>\n",
              "      <td>0</td>\n",
              "    </tr>\n",
              "    <tr>\n",
              "      <th>3</th>\n",
              "      <td>FIAT Strada 1.4 2016</td>\n",
              "      <td>1368</td>\n",
              "      <td>10.3</td>\n",
              "      <td>86</td>\n",
              "      <td>1084</td>\n",
              "      <td>12.5</td>\n",
              "      <td>4</td>\n",
              "      <td>0</td>\n",
              "    </tr>\n",
              "    <tr>\n",
              "      <th>4</th>\n",
              "      <td>VolksWagen GOL 1.6 2015</td>\n",
              "      <td>1598</td>\n",
              "      <td>10.5</td>\n",
              "      <td>104</td>\n",
              "      <td>961</td>\n",
              "      <td>9.8</td>\n",
              "      <td>4</td>\n",
              "      <td>0</td>\n",
              "    </tr>\n",
              "    <tr>\n",
              "      <th>5</th>\n",
              "      <td>Chevrolet Cruze LTZ 1.8 2016</td>\n",
              "      <td>1796</td>\n",
              "      <td>8.5</td>\n",
              "      <td>144</td>\n",
              "      <td>1427</td>\n",
              "      <td>10.2</td>\n",
              "      <td>4</td>\n",
              "      <td>0</td>\n",
              "    </tr>\n",
              "    <tr>\n",
              "      <th>6</th>\n",
              "      <td>Honda Civic EXR 2016</td>\n",
              "      <td>1997</td>\n",
              "      <td>9.5</td>\n",
              "      <td>155</td>\n",
              "      <td>1294</td>\n",
              "      <td>10.9</td>\n",
              "      <td>4</td>\n",
              "      <td>0</td>\n",
              "    </tr>\n",
              "    <tr>\n",
              "      <th>7</th>\n",
              "      <td>Ford Focus 2.0 GLX 2012</td>\n",
              "      <td>1999</td>\n",
              "      <td>9.2</td>\n",
              "      <td>148</td>\n",
              "      <td>1347</td>\n",
              "      <td>10.4</td>\n",
              "      <td>4</td>\n",
              "      <td>0</td>\n",
              "    </tr>\n",
              "    <tr>\n",
              "      <th>8</th>\n",
              "      <td>BMW 325i 3.0 2012</td>\n",
              "      <td>2996</td>\n",
              "      <td>6.5</td>\n",
              "      <td>218</td>\n",
              "      <td>1460</td>\n",
              "      <td>7.1</td>\n",
              "      <td>6</td>\n",
              "      <td>0</td>\n",
              "    </tr>\n",
              "    <tr>\n",
              "      <th>9</th>\n",
              "      <td>AUDI A4 3.2 V6 Fsi 2011</td>\n",
              "      <td>3197</td>\n",
              "      <td>7.1</td>\n",
              "      <td>269</td>\n",
              "      <td>1610</td>\n",
              "      <td>6.4</td>\n",
              "      <td>6</td>\n",
              "      <td>0</td>\n",
              "    </tr>\n",
              "    <tr>\n",
              "      <th>10</th>\n",
              "      <td>Mercedes-Benz CLS 350 3.5 V6 2012</td>\n",
              "      <td>3498</td>\n",
              "      <td>6.6</td>\n",
              "      <td>306</td>\n",
              "      <td>1735</td>\n",
              "      <td>6.1</td>\n",
              "      <td>6</td>\n",
              "      <td>0</td>\n",
              "    </tr>\n",
              "    <tr>\n",
              "      <th>11</th>\n",
              "      <td>Mercedes-Benz CLS 500 5.5 V8 2007</td>\n",
              "      <td>5461</td>\n",
              "      <td>4.2</td>\n",
              "      <td>388</td>\n",
              "      <td>1760</td>\n",
              "      <td>5.4</td>\n",
              "      <td>8</td>\n",
              "      <td>0</td>\n",
              "    </tr>\n",
              "    <tr>\n",
              "      <th>12</th>\n",
              "      <td>Chevrolet Camaro SS 6.2 V8 2018</td>\n",
              "      <td>6162</td>\n",
              "      <td>6.4</td>\n",
              "      <td>461</td>\n",
              "      <td>1709</td>\n",
              "      <td>4.2</td>\n",
              "      <td>8</td>\n",
              "      <td>0</td>\n",
              "    </tr>\n",
              "    <tr>\n",
              "      <th>13</th>\n",
              "      <td>Pagani Zonda F 7.3 V12 2006</td>\n",
              "      <td>7291</td>\n",
              "      <td>3.0</td>\n",
              "      <td>602</td>\n",
              "      <td>1230</td>\n",
              "      <td>3.6</td>\n",
              "      <td>12</td>\n",
              "      <td>0</td>\n",
              "    </tr>\n",
              "  </tbody>\n",
              "</table>\n",
              "</div>\n",
              "      <button class=\"colab-df-convert\" onclick=\"convertToInteractive('df-29be46de-0cbf-483e-84e1-1d2f86fef88e')\"\n",
              "              title=\"Convert this dataframe to an interactive table.\"\n",
              "              style=\"display:none;\">\n",
              "        \n",
              "  <svg xmlns=\"http://www.w3.org/2000/svg\" height=\"24px\"viewBox=\"0 0 24 24\"\n",
              "       width=\"24px\">\n",
              "    <path d=\"M0 0h24v24H0V0z\" fill=\"none\"/>\n",
              "    <path d=\"M18.56 5.44l.94 2.06.94-2.06 2.06-.94-2.06-.94-.94-2.06-.94 2.06-2.06.94zm-11 1L8.5 8.5l.94-2.06 2.06-.94-2.06-.94L8.5 2.5l-.94 2.06-2.06.94zm10 10l.94 2.06.94-2.06 2.06-.94-2.06-.94-.94-2.06-.94 2.06-2.06.94z\"/><path d=\"M17.41 7.96l-1.37-1.37c-.4-.4-.92-.59-1.43-.59-.52 0-1.04.2-1.43.59L10.3 9.45l-7.72 7.72c-.78.78-.78 2.05 0 2.83L4 21.41c.39.39.9.59 1.41.59.51 0 1.02-.2 1.41-.59l7.78-7.78 2.81-2.81c.8-.78.8-2.07 0-2.86zM5.41 20L4 18.59l7.72-7.72 1.47 1.35L5.41 20z\"/>\n",
              "  </svg>\n",
              "      </button>\n",
              "      \n",
              "  <style>\n",
              "    .colab-df-container {\n",
              "      display:flex;\n",
              "      flex-wrap:wrap;\n",
              "      gap: 12px;\n",
              "    }\n",
              "\n",
              "    .colab-df-convert {\n",
              "      background-color: #E8F0FE;\n",
              "      border: none;\n",
              "      border-radius: 50%;\n",
              "      cursor: pointer;\n",
              "      display: none;\n",
              "      fill: #1967D2;\n",
              "      height: 32px;\n",
              "      padding: 0 0 0 0;\n",
              "      width: 32px;\n",
              "    }\n",
              "\n",
              "    .colab-df-convert:hover {\n",
              "      background-color: #E2EBFA;\n",
              "      box-shadow: 0px 1px 2px rgba(60, 64, 67, 0.3), 0px 1px 3px 1px rgba(60, 64, 67, 0.15);\n",
              "      fill: #174EA6;\n",
              "    }\n",
              "\n",
              "    [theme=dark] .colab-df-convert {\n",
              "      background-color: #3B4455;\n",
              "      fill: #D2E3FC;\n",
              "    }\n",
              "\n",
              "    [theme=dark] .colab-df-convert:hover {\n",
              "      background-color: #434B5C;\n",
              "      box-shadow: 0px 1px 3px 1px rgba(0, 0, 0, 0.15);\n",
              "      filter: drop-shadow(0px 1px 2px rgba(0, 0, 0, 0.3));\n",
              "      fill: #FFFFFF;\n",
              "    }\n",
              "  </style>\n",
              "\n",
              "      <script>\n",
              "        const buttonEl =\n",
              "          document.querySelector('#df-29be46de-0cbf-483e-84e1-1d2f86fef88e button.colab-df-convert');\n",
              "        buttonEl.style.display =\n",
              "          google.colab.kernel.accessAllowed ? 'block' : 'none';\n",
              "\n",
              "        async function convertToInteractive(key) {\n",
              "          const element = document.querySelector('#df-29be46de-0cbf-483e-84e1-1d2f86fef88e');\n",
              "          const dataTable =\n",
              "            await google.colab.kernel.invokeFunction('convertToInteractive',\n",
              "                                                     [key], {});\n",
              "          if (!dataTable) return;\n",
              "\n",
              "          const docLinkHtml = 'Like what you see? Visit the ' +\n",
              "            '<a target=\"_blank\" href=https://colab.research.google.com/notebooks/data_table.ipynb>data table notebook</a>'\n",
              "            + ' to learn more about interactive tables.';\n",
              "          element.innerHTML = '';\n",
              "          dataTable['output_type'] = 'display_data';\n",
              "          await google.colab.output.renderOutput(dataTable, element);\n",
              "          const docLink = document.createElement('div');\n",
              "          docLink.innerHTML = docLinkHtml;\n",
              "          element.appendChild(docLink);\n",
              "        }\n",
              "      </script>\n",
              "    </div>\n",
              "  </div>\n",
              "  "
            ],
            "text/plain": [
              "                     brand/model/year  cap_vol  consumo  ...  cemm  nu_cy  Etype\n",
              "0               Gurgel BR800 0.8 1991      792     12.0  ...  34.4      2      0\n",
              "1              FIAT UNO Mille EP 1996      994     10.4  ...  18.6      4      0\n",
              "2             Hyundai HB20 Sense 2020     1000     12.8  ...  14.5      3      0\n",
              "3                FIAT Strada 1.4 2016     1368     10.3  ...  12.5      4      0\n",
              "4             VolksWagen GOL 1.6 2015     1598     10.5  ...   9.8      4      0\n",
              "5        Chevrolet Cruze LTZ 1.8 2016     1796      8.5  ...  10.2      4      0\n",
              "6                Honda Civic EXR 2016     1997      9.5  ...  10.9      4      0\n",
              "7             Ford Focus 2.0 GLX 2012     1999      9.2  ...  10.4      4      0\n",
              "8                   BMW 325i 3.0 2012     2996      6.5  ...   7.1      6      0\n",
              "9             AUDI A4 3.2 V6 Fsi 2011     3197      7.1  ...   6.4      6      0\n",
              "10  Mercedes-Benz CLS 350 3.5 V6 2012     3498      6.6  ...   6.1      6      0\n",
              "11  Mercedes-Benz CLS 500 5.5 V8 2007     5461      4.2  ...   5.4      8      0\n",
              "12    Chevrolet Camaro SS 6.2 V8 2018     6162      6.4  ...   4.2      8      0\n",
              "13        Pagani Zonda F 7.3 V12 2006     7291      3.0  ...   3.6     12      0\n",
              "\n",
              "[14 rows x 8 columns]"
            ]
          },
          "metadata": {},
          "execution_count": 11
        }
      ]
    },
    {
      "cell_type": "code",
      "source": [
        "df1 = pd.DataFrame(data=df1)\n",
        "#definir a variável resposta\n",
        "y = df1['consumo']\n",
        "#definir a vriável preditora\n",
        "x = df1['cap_vol']"
      ],
      "metadata": {
        "id": "1zfKpkwNKYgu"
      },
      "execution_count": null,
      "outputs": []
    },
    {
      "cell_type": "code",
      "source": [
        "#@title Gráficos de diagnóstico 1 (y vs. x)\n",
        "sns.lmplot(x='cap_vol', y='consumo', data=df1);plt.grid(True)"
      ],
      "metadata": {
        "colab": {
          "base_uri": "https://localhost:8080/",
          "height": 369
        },
        "id": "ELqIRC6VbIKM",
        "outputId": "e1a6ce36-edc4-4659-eacc-718c642bef09"
      },
      "execution_count": null,
      "outputs": [
        {
          "output_type": "display_data",
          "data": {
            "image/png": "[encoded data removed]",
            "text/plain": [
              "<Figure size 360x360 with 1 Axes>"
            ]
          },
          "metadata": {}
        }
      ]
    },
    {
      "cell_type": "code",
      "source": [
        "#adicionar uma constante preditora\n",
        "x = sm.add_constant(x)\n",
        "#fit linear regression model\n",
        "modelo = sm.OLS(y, x).fit() #atenção esta variável será usada no IC\n",
        "print(modelo.summary())"
      ],
      "metadata": {
        "colab": {
          "base_uri": "https://localhost:8080/"
        },
        "id": "XqLD8P1KKcK1",
        "outputId": "f63b73f3-78fa-4358-9e20-8c5b014a1436"
      },
      "execution_count": null,
      "outputs": [
        {
          "output_type": "stream",
          "name": "stdout",
          "text": [
            "                            OLS Regression Results                            \n",
            "==============================================================================\n",
            "Dep. Variable:                consumo   R-squared:                       0.834\n",
            "Model:                            OLS   Adj. R-squared:                  0.820\n",
            "Method:                 Least Squares   F-statistic:                     60.33\n",
            "Date:                Tue, 01 Mar 2022   Prob (F-statistic):           5.08e-06\n",
            "Time:                        18:35:57   Log-Likelihood:                -21.429\n",
            "No. Observations:                  14   AIC:                             46.86\n",
            "Df Residuals:                      12   BIC:                             48.14\n",
            "Df Model:                           1                                         \n",
            "Covariance Type:            nonrobust                                         \n",
            "==============================================================================\n",
            "                 coef    std err          t      P>|t|      [0.025      0.975]\n",
            "------------------------------------------------------------------------------\n",
            "const         11.9686      0.566     21.145      0.000      10.735      13.202\n",
            "cap_vol       -0.0013      0.000     -7.767      0.000      -0.002      -0.001\n",
            "==============================================================================\n",
            "Omnibus:                        1.442   Durbin-Watson:                   1.883\n",
            "Prob(Omnibus):                  0.486   Jarque-Bera (JB):                1.002\n",
            "Skew:                           0.615   Prob(JB):                        0.606\n",
            "Kurtosis:                       2.548   Cond. No.                     6.12e+03\n",
            "==============================================================================\n",
            "\n",
            "Warnings:\n",
            "[1] Standard Errors assume that the covariance matrix of the errors is correctly specified.\n",
            "[2] The condition number is large, 6.12e+03. This might indicate that there are\n",
            "strong multicollinearity or other numerical problems.\n"
          ]
        },
        {
          "output_type": "stream",
          "name": "stderr",
          "text": [
            "/usr/local/lib/python3.7/dist-packages/statsmodels/tsa/tsatools.py:117: FutureWarning: In a future version of pandas all arguments of concat except for the argument 'objs' will be keyword-only\n",
            "  x = pd.concat(x[::order], 1)\n",
            "/usr/local/lib/python3.7/dist-packages/scipy/stats/stats.py:1535: UserWarning: kurtosistest only valid for n>=20 ... continuing anyway, n=14\n",
            "  \"anyway, n=%i\" % int(n))\n"
          ]
        }
      ]
    },
    {
      "cell_type": "code",
      "source": [
        "# parâmetros da reta\n",
        "b=modelo.params\n",
        "b0=b[0] #intercepto\n",
        "b1=b[1] #inclinação\n",
        "print('y= {0}{1} x'.format(b0,b1))"
      ],
      "metadata": {
        "colab": {
          "base_uri": "https://localhost:8080/"
        },
        "id": "ITfydX6ueZum",
        "outputId": "2c6b6428-ea0b-49a3-ddf3-9403d3b67e2e"
      },
      "execution_count": null,
      "outputs": [
        {
          "output_type": "stream",
          "name": "stdout",
          "text": [
            "y= 11.968578736702083-0.00125931162205358 x\n"
          ]
        }
      ]
    },
    {
      "cell_type": "code",
      "source": [
        "x = df1['cap_vol']"
      ],
      "metadata": {
        "id": "RUtOeZnnKf3o"
      },
      "execution_count": null,
      "outputs": []
    },
    {
      "cell_type": "code",
      "source": [
        "y_pred=list(modelo.predict())\n",
        "#sns.resid(modelo)\n",
        "resi=list(modelo.resid)"
      ],
      "metadata": {
        "id": "th8xak3KKqsB"
      },
      "execution_count": null,
      "outputs": []
    },
    {
      "cell_type": "code",
      "source": [
        "#crear instancia influence\n",
        "influence = modelo.get_influence()\n",
        "#obter residuos standardizados\n",
        "stdresid = list(influence.resid_studentized_internal)"
      ],
      "metadata": {
        "id": "J2YyfwPGoO8L"
      },
      "execution_count": null,
      "outputs": []
    },
    {
      "cell_type": "code",
      "source": [
        "prop=np.divide(resi,stdresid) #e/e* para verificar a proporcionalidade entre o erro e o erro padronizado"
      ],
      "metadata": {
        "id": "abOgjPP4RTxe"
      },
      "execution_count": null,
      "outputs": []
    },
    {
      "cell_type": "code",
      "source": [
        "#@title Tabela geral\n",
        "dft = pd.DataFrame(list(zip(x, y, y_pred, resi, stdresid, prop)),\n",
        "               columns =[\"x\",\"y\",\"yc\",\"e\",\"e*\",\"e/e*\"])\n",
        "dft "
      ],
      "metadata": {
        "colab": {
          "base_uri": "https://localhost:8080/",
          "height": 488
        },
        "id": "QoCxKOeJWQBu",
        "outputId": "bfefb398-8391-41be-8215-526a1fbfb4ca"
      },
      "execution_count": null,
      "outputs": [
        {
          "output_type": "execute_result",
          "data": {
            "text/html": [
              "\n",
              "  <div id=\"df-3833c5e4-9c45-4c5a-bca6-033a90ae79d7\">\n",
              "    <div class=\"colab-df-container\">\n",
              "      <div>\n",
              "<style scoped>\n",
              "    .dataframe tbody tr th:only-of-type {\n",
              "        vertical-align: middle;\n",
              "    }\n",
              "\n",
              "    .dataframe tbody tr th {\n",
              "        vertical-align: top;\n",
              "    }\n",
              "\n",
              "    .dataframe thead th {\n",
              "        text-align: right;\n",
              "    }\n",
              "</style>\n",
              "<table border=\"1\" class=\"dataframe\">\n",
              "  <thead>\n",
              "    <tr style=\"text-align: right;\">\n",
              "      <th></th>\n",
              "      <th>x</th>\n",
              "      <th>y</th>\n",
              "      <th>yc</th>\n",
              "      <th>e</th>\n",
              "      <th>e*</th>\n",
              "      <th>e/e*</th>\n",
              "    </tr>\n",
              "  </thead>\n",
              "  <tbody>\n",
              "    <tr>\n",
              "      <th>0</th>\n",
              "      <td>792</td>\n",
              "      <td>12.0</td>\n",
              "      <td>10.971204</td>\n",
              "      <td>1.028796</td>\n",
              "      <td>0.923383</td>\n",
              "      <td>1.114160</td>\n",
              "    </tr>\n",
              "    <tr>\n",
              "      <th>1</th>\n",
              "      <td>994</td>\n",
              "      <td>10.4</td>\n",
              "      <td>10.716823</td>\n",
              "      <td>-0.316823</td>\n",
              "      <td>-0.281988</td>\n",
              "      <td>1.123532</td>\n",
              "    </tr>\n",
              "    <tr>\n",
              "      <th>2</th>\n",
              "      <td>1000</td>\n",
              "      <td>12.8</td>\n",
              "      <td>10.709267</td>\n",
              "      <td>2.090733</td>\n",
              "      <td>1.860422</td>\n",
              "      <td>1.123795</td>\n",
              "    </tr>\n",
              "    <tr>\n",
              "      <th>3</th>\n",
              "      <td>1368</td>\n",
              "      <td>10.3</td>\n",
              "      <td>10.245840</td>\n",
              "      <td>0.054160</td>\n",
              "      <td>0.047584</td>\n",
              "      <td>1.138197</td>\n",
              "    </tr>\n",
              "    <tr>\n",
              "      <th>4</th>\n",
              "      <td>1598</td>\n",
              "      <td>10.5</td>\n",
              "      <td>9.956199</td>\n",
              "      <td>0.543801</td>\n",
              "      <td>0.474716</td>\n",
              "      <td>1.145529</td>\n",
              "    </tr>\n",
              "    <tr>\n",
              "      <th>5</th>\n",
              "      <td>1796</td>\n",
              "      <td>8.5</td>\n",
              "      <td>9.706855</td>\n",
              "      <td>-1.206855</td>\n",
              "      <td>-1.048677</td>\n",
              "      <td>1.150836</td>\n",
              "    </tr>\n",
              "    <tr>\n",
              "      <th>6</th>\n",
              "      <td>1997</td>\n",
              "      <td>9.5</td>\n",
              "      <td>9.453733</td>\n",
              "      <td>0.046267</td>\n",
              "      <td>0.040048</td>\n",
              "      <td>1.155287</td>\n",
              "    </tr>\n",
              "    <tr>\n",
              "      <th>7</th>\n",
              "      <td>1999</td>\n",
              "      <td>9.2</td>\n",
              "      <td>9.451215</td>\n",
              "      <td>-0.251215</td>\n",
              "      <td>-0.217440</td>\n",
              "      <td>1.155327</td>\n",
              "    </tr>\n",
              "    <tr>\n",
              "      <th>8</th>\n",
              "      <td>2996</td>\n",
              "      <td>6.5</td>\n",
              "      <td>8.195681</td>\n",
              "      <td>-1.695681</td>\n",
              "      <td>-1.457151</td>\n",
              "      <td>1.163696</td>\n",
              "    </tr>\n",
              "    <tr>\n",
              "      <th>9</th>\n",
              "      <td>3197</td>\n",
              "      <td>7.1</td>\n",
              "      <td>7.942559</td>\n",
              "      <td>-0.842559</td>\n",
              "      <td>-0.724684</td>\n",
              "      <td>1.162657</td>\n",
              "    </tr>\n",
              "    <tr>\n",
              "      <th>10</th>\n",
              "      <td>3498</td>\n",
              "      <td>6.6</td>\n",
              "      <td>7.563507</td>\n",
              "      <td>-0.963507</td>\n",
              "      <td>-0.831048</td>\n",
              "      <td>1.159388</td>\n",
              "    </tr>\n",
              "    <tr>\n",
              "      <th>11</th>\n",
              "      <td>5461</td>\n",
              "      <td>4.2</td>\n",
              "      <td>5.091478</td>\n",
              "      <td>-0.891478</td>\n",
              "      <td>-0.821422</td>\n",
              "      <td>1.085286</td>\n",
              "    </tr>\n",
              "    <tr>\n",
              "      <th>12</th>\n",
              "      <td>6162</td>\n",
              "      <td>6.4</td>\n",
              "      <td>4.208701</td>\n",
              "      <td>2.191299</td>\n",
              "      <td>2.119047</td>\n",
              "      <td>1.034097</td>\n",
              "    </tr>\n",
              "    <tr>\n",
              "      <th>13</th>\n",
              "      <td>7291</td>\n",
              "      <td>3.0</td>\n",
              "      <td>2.786938</td>\n",
              "      <td>0.213062</td>\n",
              "      <td>0.232426</td>\n",
              "      <td>0.916688</td>\n",
              "    </tr>\n",
              "  </tbody>\n",
              "</table>\n",
              "</div>\n",
              "      <button class=\"colab-df-convert\" onclick=\"convertToInteractive('df-3833c5e4-9c45-4c5a-bca6-033a90ae79d7')\"\n",
              "              title=\"Convert this dataframe to an interactive table.\"\n",
              "              style=\"display:none;\">\n",
              "        \n",
              "  <svg xmlns=\"http://www.w3.org/2000/svg\" height=\"24px\"viewBox=\"0 0 24 24\"\n",
              "       width=\"24px\">\n",
              "    <path d=\"M0 0h24v24H0V0z\" fill=\"none\"/>\n",
              "    <path d=\"M18.56 5.44l.94 2.06.94-2.06 2.06-.94-2.06-.94-.94-2.06-.94 2.06-2.06.94zm-11 1L8.5 8.5l.94-2.06 2.06-.94-2.06-.94L8.5 2.5l-.94 2.06-2.06.94zm10 10l.94 2.06.94-2.06 2.06-.94-2.06-.94-.94-2.06-.94 2.06-2.06.94z\"/><path d=\"M17.41 7.96l-1.37-1.37c-.4-.4-.92-.59-1.43-.59-.52 0-1.04.2-1.43.59L10.3 9.45l-7.72 7.72c-.78.78-.78 2.05 0 2.83L4 21.41c.39.39.9.59 1.41.59.51 0 1.02-.2 1.41-.59l7.78-7.78 2.81-2.81c.8-.78.8-2.07 0-2.86zM5.41 20L4 18.59l7.72-7.72 1.47 1.35L5.41 20z\"/>\n",
              "  </svg>\n",
              "      </button>\n",
              "      \n",
              "  <style>\n",
              "    .colab-df-container {\n",
              "      display:flex;\n",
              "      flex-wrap:wrap;\n",
              "      gap: 12px;\n",
              "    }\n",
              "\n",
              "    .colab-df-convert {\n",
              "      background-color: #E8F0FE;\n",
              "      border: none;\n",
              "      border-radius: 50%;\n",
              "      cursor: pointer;\n",
              "      display: none;\n",
              "      fill: #1967D2;\n",
              "      height: 32px;\n",
              "      padding: 0 0 0 0;\n",
              "      width: 32px;\n",
              "    }\n",
              "\n",
              "    .colab-df-convert:hover {\n",
              "      background-color: #E2EBFA;\n",
              "      box-shadow: 0px 1px 2px rgba(60, 64, 67, 0.3), 0px 1px 3px 1px rgba(60, 64, 67, 0.15);\n",
              "      fill: #174EA6;\n",
              "    }\n",
              "\n",
              "    [theme=dark] .colab-df-convert {\n",
              "      background-color: #3B4455;\n",
              "      fill: #D2E3FC;\n",
              "    }\n",
              "\n",
              "    [theme=dark] .colab-df-convert:hover {\n",
              "      background-color: #434B5C;\n",
              "      box-shadow: 0px 1px 3px 1px rgba(0, 0, 0, 0.15);\n",
              "      filter: drop-shadow(0px 1px 2px rgba(0, 0, 0, 0.3));\n",
              "      fill: #FFFFFF;\n",
              "    }\n",
              "  </style>\n",
              "\n",
              "      <script>\n",
              "        const buttonEl =\n",
              "          document.querySelector('#df-3833c5e4-9c45-4c5a-bca6-033a90ae79d7 button.colab-df-convert');\n",
              "        buttonEl.style.display =\n",
              "          google.colab.kernel.accessAllowed ? 'block' : 'none';\n",
              "\n",
              "        async function convertToInteractive(key) {\n",
              "          const element = document.querySelector('#df-3833c5e4-9c45-4c5a-bca6-033a90ae79d7');\n",
              "          const dataTable =\n",
              "            await google.colab.kernel.invokeFunction('convertToInteractive',\n",
              "                                                     [key], {});\n",
              "          if (!dataTable) return;\n",
              "\n",
              "          const docLinkHtml = 'Like what you see? Visit the ' +\n",
              "            '<a target=\"_blank\" href=https://colab.research.google.com/notebooks/data_table.ipynb>data table notebook</a>'\n",
              "            + ' to learn more about interactive tables.';\n",
              "          element.innerHTML = '';\n",
              "          dataTable['output_type'] = 'display_data';\n",
              "          await google.colab.output.renderOutput(dataTable, element);\n",
              "          const docLink = document.createElement('div');\n",
              "          docLink.innerHTML = docLinkHtml;\n",
              "          element.appendChild(docLink);\n",
              "        }\n",
              "      </script>\n",
              "    </div>\n",
              "  </div>\n",
              "  "
            ],
            "text/plain": [
              "       x     y         yc         e        e*      e/e*\n",
              "0    792  12.0  10.971204  1.028796  0.923383  1.114160\n",
              "1    994  10.4  10.716823 -0.316823 -0.281988  1.123532\n",
              "2   1000  12.8  10.709267  2.090733  1.860422  1.123795\n",
              "3   1368  10.3  10.245840  0.054160  0.047584  1.138197\n",
              "4   1598  10.5   9.956199  0.543801  0.474716  1.145529\n",
              "5   1796   8.5   9.706855 -1.206855 -1.048677  1.150836\n",
              "6   1997   9.5   9.453733  0.046267  0.040048  1.155287\n",
              "7   1999   9.2   9.451215 -0.251215 -0.217440  1.155327\n",
              "8   2996   6.5   8.195681 -1.695681 -1.457151  1.163696\n",
              "9   3197   7.1   7.942559 -0.842559 -0.724684  1.162657\n",
              "10  3498   6.6   7.563507 -0.963507 -0.831048  1.159388\n",
              "11  5461   4.2   5.091478 -0.891478 -0.821422  1.085286\n",
              "12  6162   6.4   4.208701  2.191299  2.119047  1.034097\n",
              "13  7291   3.0   2.786938  0.213062  0.232426  0.916688"
            ]
          },
          "metadata": {},
          "execution_count": 20
        }
      ]
    },
    {
      "cell_type": "code",
      "source": [
        "#@title Gráficos de diagnóstico 2 (y vs. yc)\n",
        "sns.lmplot(x='y', y='yc', data=dft);plt.grid(True)"
      ],
      "metadata": {
        "colab": {
          "base_uri": "https://localhost:8080/",
          "height": 369
        },
        "id": "mVaDoM8Ku8zL",
        "outputId": "6b7605d2-77ba-4c4b-e9fa-17d43aa3da61"
      },
      "execution_count": null,
      "outputs": [
        {
          "output_type": "display_data",
          "data": {
            "image/png": "[encoded data removed]",
            "text/plain": [
              "<Figure size 360x360 with 1 Axes>"
            ]
          },
          "metadata": {}
        }
      ]
    },
    {
      "cell_type": "code",
      "source": [
        "#@title Gráficos de diagnóstico 3 (resíduos padronizados vs. x)\n",
        "sns.scatterplot(x='x', y='e*', data=dft);plt.grid(True)\n",
        "plt.xlabel('x= Capacidade Volumétrica')\n",
        "plt.ylabel('e*= Resíduos padronizados')\n",
        "plt.axhline(y=0, color='black', linestyle='--', linewidth=1)\n",
        "plt.show()"
      ],
      "metadata": {
        "colab": {
          "base_uri": "https://localhost:8080/",
          "height": 361
        },
        "id": "L4w3cKt_w4QT",
        "outputId": "e82289df-28ba-44a5-c912-7fe976aa0bd5"
      },
      "execution_count": null,
      "outputs": [
        {
          "output_type": "display_data",
          "data": {
            "image/png": "[encoded data removed]",
            "text/plain": [
              "<Figure size 576x396 with 1 Axes>"
            ]
          },
          "metadata": {}
        }
      ]
    },
    {
      "cell_type": "code",
      "source": [
        "#@title Gráficos de diagnóstico 4 (resíduos padronizados vs. y)\n",
        "sns.scatterplot(x='y', y='e*', data=dft);plt.grid(True)\n",
        "plt.xlabel('y= Consumo')\n",
        "plt.ylabel('e*= Resíduos padronizados')\n",
        "plt.axhline(y=0, color='black', linestyle='--', linewidth=1)\n",
        "plt.show()"
      ],
      "metadata": {
        "colab": {
          "base_uri": "https://localhost:8080/",
          "height": 361
        },
        "outputId": "c4a8d323-53f6-407c-e971-ceaf4af3b184",
        "id": "JsuKnBpz2DO2"
      },
      "execution_count": null,
      "outputs": [
        {
          "output_type": "display_data",
          "data": {
            "image/png": "[encoded data removed]",
            "text/plain": [
              "<Figure size 576x396 with 1 Axes>"
            ]
          },
          "metadata": {}
        }
      ]
    },
    {
      "cell_type": "code",
      "source": [
        "#@title Gráficos de diagnóstico 5 Probabilidade Normal\n",
        "QQ = ProbPlot(influence.resid_studentized_internal)\n",
        "plot_lm_2 = QQ.qqplot(line='45', alpha=0.5, color='#4C72B0', lw=1)\n",
        "plot_lm_2.axes[0].set_xlabel('Percentil')\n",
        "plot_lm_2.axes[0].set_ylabel('Resíduos padronizados')"
      ],
      "metadata": {
        "colab": {
          "base_uri": "https://localhost:8080/",
          "height": 378
        },
        "id": "4DRDBzV0zicR",
        "outputId": "22c423e0-8d68-4ff4-f5e7-5f8b62518b57"
      },
      "execution_count": null,
      "outputs": [
        {
          "output_type": "execute_result",
          "data": {
            "text/plain": [
              "Text(0, 0.5, 'Resíduos padronizados')"
            ]
          },
          "metadata": {},
          "execution_count": 26
        },
        {
          "output_type": "display_data",
          "data": {
            "image/png": "[encoded data removed]",
            "text/plain": [
              "<Figure size 576x396 with 1 Axes>"
            ]
          },
          "metadata": {}
        }
      ]
    },
    {
      "cell_type": "code",
      "source": [
        "test = modelo.outlier_test()\n",
        "print(\"test.columns:\", test.columns)\n",
        "print(test)\n",
        "outliers = ((x[i],y[i]) for i,t in enumerate(test.iloc[:,2]) if t < 0.5)\n",
        "print ('Outliers: ', list(outliers))"
      ],
      "metadata": {
        "colab": {
          "base_uri": "https://localhost:8080/"
        },
        "id": "DjxxCzdcVIln",
        "outputId": "61c6b669-7b36-4f0b-c40b-d4e27df97c35"
      },
      "execution_count": null,
      "outputs": [
        {
          "output_type": "stream",
          "name": "stdout",
          "text": [
            "test.columns: Index(['student_resid', 'unadj_p', 'bonf(p)'], dtype='object')\n",
            "    student_resid   unadj_p   bonf(p)\n",
            "0        0.917259  0.378679  1.000000\n",
            "1       -0.270882  0.791497  1.000000\n",
            "2        2.111586  0.058416  0.817825\n",
            "3        0.045562  0.964476  1.000000\n",
            "4        0.458835  0.655286  1.000000\n",
            "5       -1.053463  0.314720  1.000000\n",
            "6        0.038345  0.970099  1.000000\n",
            "7       -0.208595  0.838577  1.000000\n",
            "8       -1.537782  0.152355  1.000000\n",
            "9       -0.709532  0.492760  1.000000\n",
            "10      -0.819602  0.429844  1.000000\n",
            "11      -0.809540  0.435366  1.000000\n",
            "12       2.564645  0.026300  0.368201\n",
            "13       0.223034  0.827597  1.000000\n",
            "Outliers:  [(6162, 6.4)]\n"
          ]
        }
      ]
    },
    {
      "cell_type": "code",
      "source": [
        "plt.rcParams.update({'figure.figsize':(10,8), 'figure.dpi':100})\n",
        "sns.lmplot(x='cap_vol', y='consumo',hue='brand/model/year', data=df1);"
      ],
      "metadata": {
        "colab": {
          "base_uri": "https://localhost:8080/",
          "height": 506
        },
        "id": "gfvVi8Br5Jxa",
        "outputId": "78a63358-39a4-484a-a684-8152b6e8ae05"
      },
      "execution_count": null,
      "outputs": [
        {
          "output_type": "display_data",
          "data": {
            "image/png": "[encoded data removed]",
            "text/plain": [
              "<Figure size 784.5x500 with 1 Axes>"
            ]
          },
          "metadata": {}
        }
      ]
    },
    {
      "cell_type": "code",
      "source": [
        "a= modelo.conf_int(alpha=0.05, cols=None) #intervalo de confiança de b0 e b1\n",
        "a"
      ],
      "metadata": {
        "colab": {
          "base_uri": "https://localhost:8080/",
          "height": 112
        },
        "id": "HMShfdxuwBLI",
        "outputId": "088bfbb5-2e94-46f8-9fdb-e2aa3338f550"
      },
      "execution_count": null,
      "outputs": [
        {
          "output_type": "execute_result",
          "data": {
            "text/html": [
              "\n",
              "  <div id=\"df-a5b158fa-4a62-432b-85bd-b48a9adae777\">\n",
              "    <div class=\"colab-df-container\">\n",
              "      <div>\n",
              "<style scoped>\n",
              "    .dataframe tbody tr th:only-of-type {\n",
              "        vertical-align: middle;\n",
              "    }\n",
              "\n",
              "    .dataframe tbody tr th {\n",
              "        vertical-align: top;\n",
              "    }\n",
              "\n",
              "    .dataframe thead th {\n",
              "        text-align: right;\n",
              "    }\n",
              "</style>\n",
              "<table border=\"1\" class=\"dataframe\">\n",
              "  <thead>\n",
              "    <tr style=\"text-align: right;\">\n",
              "      <th></th>\n",
              "      <th>0</th>\n",
              "      <th>1</th>\n",
              "    </tr>\n",
              "  </thead>\n",
              "  <tbody>\n",
              "    <tr>\n",
              "      <th>const</th>\n",
              "      <td>10.735300</td>\n",
              "      <td>13.201858</td>\n",
              "    </tr>\n",
              "    <tr>\n",
              "      <th>cap_vol</th>\n",
              "      <td>-0.001613</td>\n",
              "      <td>-0.000906</td>\n",
              "    </tr>\n",
              "  </tbody>\n",
              "</table>\n",
              "</div>\n",
              "      <button class=\"colab-df-convert\" onclick=\"convertToInteractive('df-a5b158fa-4a62-432b-85bd-b48a9adae777')\"\n",
              "              title=\"Convert this dataframe to an interactive table.\"\n",
              "              style=\"display:none;\">\n",
              "        \n",
              "  <svg xmlns=\"http://www.w3.org/2000/svg\" height=\"24px\"viewBox=\"0 0 24 24\"\n",
              "       width=\"24px\">\n",
              "    <path d=\"M0 0h24v24H0V0z\" fill=\"none\"/>\n",
              "    <path d=\"M18.56 5.44l.94 2.06.94-2.06 2.06-.94-2.06-.94-.94-2.06-.94 2.06-2.06.94zm-11 1L8.5 8.5l.94-2.06 2.06-.94-2.06-.94L8.5 2.5l-.94 2.06-2.06.94zm10 10l.94 2.06.94-2.06 2.06-.94-2.06-.94-.94-2.06-.94 2.06-2.06.94z\"/><path d=\"M17.41 7.96l-1.37-1.37c-.4-.4-.92-.59-1.43-.59-.52 0-1.04.2-1.43.59L10.3 9.45l-7.72 7.72c-.78.78-.78 2.05 0 2.83L4 21.41c.39.39.9.59 1.41.59.51 0 1.02-.2 1.41-.59l7.78-7.78 2.81-2.81c.8-.78.8-2.07 0-2.86zM5.41 20L4 18.59l7.72-7.72 1.47 1.35L5.41 20z\"/>\n",
              "  </svg>\n",
              "      </button>\n",
              "      \n",
              "  <style>\n",
              "    .colab-df-container {\n",
              "      display:flex;\n",
              "      flex-wrap:wrap;\n",
              "      gap: 12px;\n",
              "    }\n",
              "\n",
              "    .colab-df-convert {\n",
              "      background-color: #E8F0FE;\n",
              "      border: none;\n",
              "      border-radius: 50%;\n",
              "      cursor: pointer;\n",
              "      display: none;\n",
              "      fill: #1967D2;\n",
              "      height: 32px;\n",
              "      padding: 0 0 0 0;\n",
              "      width: 32px;\n",
              "    }\n",
              "\n",
              "    .colab-df-convert:hover {\n",
              "      background-color: #E2EBFA;\n",
              "      box-shadow: 0px 1px 2px rgba(60, 64, 67, 0.3), 0px 1px 3px 1px rgba(60, 64, 67, 0.15);\n",
              "      fill: #174EA6;\n",
              "    }\n",
              "\n",
              "    [theme=dark] .colab-df-convert {\n",
              "      background-color: #3B4455;\n",
              "      fill: #D2E3FC;\n",
              "    }\n",
              "\n",
              "    [theme=dark] .colab-df-convert:hover {\n",
              "      background-color: #434B5C;\n",
              "      box-shadow: 0px 1px 3px 1px rgba(0, 0, 0, 0.15);\n",
              "      filter: drop-shadow(0px 1px 2px rgba(0, 0, 0, 0.3));\n",
              "      fill: #FFFFFF;\n",
              "    }\n",
              "  </style>\n",
              "\n",
              "      <script>\n",
              "        const buttonEl =\n",
              "          document.querySelector('#df-a5b158fa-4a62-432b-85bd-b48a9adae777 button.colab-df-convert');\n",
              "        buttonEl.style.display =\n",
              "          google.colab.kernel.accessAllowed ? 'block' : 'none';\n",
              "\n",
              "        async function convertToInteractive(key) {\n",
              "          const element = document.querySelector('#df-a5b158fa-4a62-432b-85bd-b48a9adae777');\n",
              "          const dataTable =\n",
              "            await google.colab.kernel.invokeFunction('convertToInteractive',\n",
              "                                                     [key], {});\n",
              "          if (!dataTable) return;\n",
              "\n",
              "          const docLinkHtml = 'Like what you see? Visit the ' +\n",
              "            '<a target=\"_blank\" href=https://colab.research.google.com/notebooks/data_table.ipynb>data table notebook</a>'\n",
              "            + ' to learn more about interactive tables.';\n",
              "          element.innerHTML = '';\n",
              "          dataTable['output_type'] = 'display_data';\n",
              "          await google.colab.output.renderOutput(dataTable, element);\n",
              "          const docLink = document.createElement('div');\n",
              "          docLink.innerHTML = docLinkHtml;\n",
              "          element.appendChild(docLink);\n",
              "        }\n",
              "      </script>\n",
              "    </div>\n",
              "  </div>\n",
              "  "
            ],
            "text/plain": [
              "                 0          1\n",
              "const    10.735300  13.201858\n",
              "cap_vol  -0.001613  -0.000906"
            ]
          },
          "metadata": {},
          "execution_count": 29
        }
      ]
    },
    {
      "cell_type": "code",
      "source": [
        "display(a.iloc[0,:]) #intervalo de confiança b0\n",
        "display(a.iloc[1,:]) #intervalo de confiança b0"
      ],
      "metadata": {
        "colab": {
          "base_uri": "https://localhost:8080/",
          "height": 121
        },
        "id": "bT2WM2Kv45QR",
        "outputId": "c47a31db-c0e2-425c-ca19-7cc0728231b3"
      },
      "execution_count": null,
      "outputs": [
        {
          "output_type": "display_data",
          "data": {
            "text/plain": [
              "0    10.735300\n",
              "1    13.201858\n",
              "Name: const, dtype: float64"
            ]
          },
          "metadata": {}
        },
        {
          "output_type": "display_data",
          "data": {
            "text/plain": [
              "0   -0.001613\n",
              "1   -0.000906\n",
              "Name: cap_vol, dtype: float64"
            ]
          },
          "metadata": {}
        }
      ]
    },
    {
      "cell_type": "markdown",
      "source": [
        "## Exemplo 3\n",
        "Nenhum aficionado de fritas gosta que fiquem encharcadas, por isso é importante encontrar características do processo de produção que as produzam com uma textura atraente. \n",
        "Os seguintes dados em que x=tempo de fritura (s) e y= teor de umidade (%) apareceram no artigo “Thermal and Physical Properties of Tortilla Chips as a Function of Frying Time” (J. of Food Processing and Preservation, 1995: 175–189).\n",
        "\n",
        "\n",
        "a.   Construa um gráfico de dispersão de y versus x e comente.\n",
        "\n",
        "b.   Construa um gráfico de dispersão dos pares (ln(x), ln(y)) e comente.\n",
        "\n",
        "c.   Qual é a relação probabilística entre x e y sugerido pelo padrão linear no gráfico da parte (b)?\n",
        "\n",
        "d.   Preveja o valor do teor de umidade ao fritar as batatas por 20s, de uma forma que transmite informações sobre confiabilidade e precisão.\n",
        "\n",
        "e.   Analise os resíduos do ajuste do modelo de regressão linear para os dados transformados e comente.\n"
      ],
      "metadata": {
        "id": "rFZL2EkWcWtx"
      }
    },
    {
      "cell_type": "code",
      "source": [
        "lstx = (5, 10, 15, 20, 25, 30, 45, 60)\n",
        "lsty= (16.3, 9.7, 8.1, 4.2, 3.4, 2.9, 1.9, 1.3)\n",
        "# Construir o DataFrame e nomear as colunas\n",
        "dfries = pd.DataFrame(list(zip(lstx, lsty)),\n",
        "               columns =[\"x\",\"y\"])\n",
        "x=dfries['x']\n",
        "y=dfries['y']\n",
        "dfries.head()"
      ],
      "metadata": {
        "colab": {
          "base_uri": "https://localhost:8080/",
          "height": 206
        },
        "id": "T_g0QX3LdAFb",
        "outputId": "2eb5129a-7291-4dcb-ea28-9417acd5811e"
      },
      "execution_count": 5,
      "outputs": [
        {
          "output_type": "execute_result",
          "data": {
            "text/plain": [
              "    x     y\n",
              "0   5  16.3\n",
              "1  10   9.7\n",
              "2  15   8.1\n",
              "3  20   4.2\n",
              "4  25   3.4"
            ],
            "text/html": [
              "\n",
              "  <div id=\"df-e7916989-a99c-4f6b-98fa-3d40053d00fc\">\n",
              "    <div class=\"colab-df-container\">\n",
              "      <div>\n",
              "<style scoped>\n",
              "    .dataframe tbody tr th:only-of-type {\n",
              "        vertical-align: middle;\n",
              "    }\n",
              "\n",
              "    .dataframe tbody tr th {\n",
              "        vertical-align: top;\n",
              "    }\n",
              "\n",
              "    .dataframe thead th {\n",
              "        text-align: right;\n",
              "    }\n",
              "</style>\n",
              "<table border=\"1\" class=\"dataframe\">\n",
              "  <thead>\n",
              "    <tr style=\"text-align: right;\">\n",
              "      <th></th>\n",
              "      <th>x</th>\n",
              "      <th>y</th>\n",
              "    </tr>\n",
              "  </thead>\n",
              "  <tbody>\n",
              "    <tr>\n",
              "      <th>0</th>\n",
              "      <td>5</td>\n",
              "      <td>16.3</td>\n",
              "    </tr>\n",
              "    <tr>\n",
              "      <th>1</th>\n",
              "      <td>10</td>\n",
              "      <td>9.7</td>\n",
              "    </tr>\n",
              "    <tr>\n",
              "      <th>2</th>\n",
              "      <td>15</td>\n",
              "      <td>8.1</td>\n",
              "    </tr>\n",
              "    <tr>\n",
              "      <th>3</th>\n",
              "      <td>20</td>\n",
              "      <td>4.2</td>\n",
              "    </tr>\n",
              "    <tr>\n",
              "      <th>4</th>\n",
              "      <td>25</td>\n",
              "      <td>3.4</td>\n",
              "    </tr>\n",
              "  </tbody>\n",
              "</table>\n",
              "</div>\n",
              "      <button class=\"colab-df-convert\" onclick=\"convertToInteractive('df-e7916989-a99c-4f6b-98fa-3d40053d00fc')\"\n",
              "              title=\"Convert this dataframe to an interactive table.\"\n",
              "              style=\"display:none;\">\n",
              "        \n",
              "  <svg xmlns=\"http://www.w3.org/2000/svg\" height=\"24px\"viewBox=\"0 0 24 24\"\n",
              "       width=\"24px\">\n",
              "    <path d=\"M0 0h24v24H0V0z\" fill=\"none\"/>\n",
              "    <path d=\"M18.56 5.44l.94 2.06.94-2.06 2.06-.94-2.06-.94-.94-2.06-.94 2.06-2.06.94zm-11 1L8.5 8.5l.94-2.06 2.06-.94-2.06-.94L8.5 2.5l-.94 2.06-2.06.94zm10 10l.94 2.06.94-2.06 2.06-.94-2.06-.94-.94-2.06-.94 2.06-2.06.94z\"/><path d=\"M17.41 7.96l-1.37-1.37c-.4-.4-.92-.59-1.43-.59-.52 0-1.04.2-1.43.59L10.3 9.45l-7.72 7.72c-.78.78-.78 2.05 0 2.83L4 21.41c.39.39.9.59 1.41.59.51 0 1.02-.2 1.41-.59l7.78-7.78 2.81-2.81c.8-.78.8-2.07 0-2.86zM5.41 20L4 18.59l7.72-7.72 1.47 1.35L5.41 20z\"/>\n",
              "  </svg>\n",
              "      </button>\n",
              "      \n",
              "  <style>\n",
              "    .colab-df-container {\n",
              "      display:flex;\n",
              "      flex-wrap:wrap;\n",
              "      gap: 12px;\n",
              "    }\n",
              "\n",
              "    .colab-df-convert {\n",
              "      background-color: #E8F0FE;\n",
              "      border: none;\n",
              "      border-radius: 50%;\n",
              "      cursor: pointer;\n",
              "      display: none;\n",
              "      fill: #1967D2;\n",
              "      height: 32px;\n",
              "      padding: 0 0 0 0;\n",
              "      width: 32px;\n",
              "    }\n",
              "\n",
              "    .colab-df-convert:hover {\n",
              "      background-color: #E2EBFA;\n",
              "      box-shadow: 0px 1px 2px rgba(60, 64, 67, 0.3), 0px 1px 3px 1px rgba(60, 64, 67, 0.15);\n",
              "      fill: #174EA6;\n",
              "    }\n",
              "\n",
              "    [theme=dark] .colab-df-convert {\n",
              "      background-color: #3B4455;\n",
              "      fill: #D2E3FC;\n",
              "    }\n",
              "\n",
              "    [theme=dark] .colab-df-convert:hover {\n",
              "      background-color: #434B5C;\n",
              "      box-shadow: 0px 1px 3px 1px rgba(0, 0, 0, 0.15);\n",
              "      filter: drop-shadow(0px 1px 2px rgba(0, 0, 0, 0.3));\n",
              "      fill: #FFFFFF;\n",
              "    }\n",
              "  </style>\n",
              "\n",
              "      <script>\n",
              "        const buttonEl =\n",
              "          document.querySelector('#df-e7916989-a99c-4f6b-98fa-3d40053d00fc button.colab-df-convert');\n",
              "        buttonEl.style.display =\n",
              "          google.colab.kernel.accessAllowed ? 'block' : 'none';\n",
              "\n",
              "        async function convertToInteractive(key) {\n",
              "          const element = document.querySelector('#df-e7916989-a99c-4f6b-98fa-3d40053d00fc');\n",
              "          const dataTable =\n",
              "            await google.colab.kernel.invokeFunction('convertToInteractive',\n",
              "                                                     [key], {});\n",
              "          if (!dataTable) return;\n",
              "\n",
              "          const docLinkHtml = 'Like what you see? Visit the ' +\n",
              "            '<a target=\"_blank\" href=https://colab.research.google.com/notebooks/data_table.ipynb>data table notebook</a>'\n",
              "            + ' to learn more about interactive tables.';\n",
              "          element.innerHTML = '';\n",
              "          dataTable['output_type'] = 'display_data';\n",
              "          await google.colab.output.renderOutput(dataTable, element);\n",
              "          const docLink = document.createElement('div');\n",
              "          docLink.innerHTML = docLinkHtml;\n",
              "          element.appendChild(docLink);\n",
              "        }\n",
              "      </script>\n",
              "    </div>\n",
              "  </div>\n",
              "  "
            ]
          },
          "metadata": {},
          "execution_count": 5
        }
      ]
    },
    {
      "cell_type": "code",
      "source": [
        "#@title Resposta a)\n",
        "# Gráfico de dispersão\n",
        "#plt.rcParams.update({'figure.figsize':(8,6), 'figure.dpi':100})\n",
        "plt.scatter(dfries['x'],dfries['y'])\n",
        "plt.xlabel('Tempo de fritura (s)');\n",
        "plt.ylabel('Teor de umidade (%)')\n",
        "plt.grid(True)\n",
        "plt.show()"
      ],
      "metadata": {
        "colab": {
          "base_uri": "https://localhost:8080/",
          "height": 361
        },
        "id": "8j7LpCmMfput",
        "outputId": "3a70d026-ca75-4f81-9ba4-03b33bce536c"
      },
      "execution_count": 6,
      "outputs": [
        {
          "output_type": "display_data",
          "data": {
            "text/plain": [
              "<Figure size 576x396 with 1 Axes>"
            ],
            "image/png": "[encoded data removed]"
          },
          "metadata": {}
        }
      ]
    },
    {
      "cell_type": "code",
      "source": [
        "#adicionar uma constante preditora\n",
        "x = sm.add_constant(x)\n",
        "#fit linear regression model\n",
        "modelo = sm.OLS(y, x).fit() #atenção esta variável será usada no IC\n",
        "print(modelo.summary())"
      ],
      "metadata": {
        "colab": {
          "base_uri": "https://localhost:8080/"
        },
        "id": "_ziGP9Q7eL9Z",
        "outputId": "8650e0be-8581-4eb0-c18b-25181cea6fee"
      },
      "execution_count": 7,
      "outputs": [
        {
          "output_type": "stream",
          "name": "stdout",
          "text": [
            "                            OLS Regression Results                            \n",
            "==============================================================================\n",
            "Dep. Variable:                      y   R-squared:                       0.657\n",
            "Model:                            OLS   Adj. R-squared:                  0.600\n",
            "Method:                 Least Squares   F-statistic:                     11.48\n",
            "Date:                Thu, 28 Apr 2022   Prob (F-statistic):             0.0147\n",
            "Time:                        01:29:37   Log-Likelihood:                -19.587\n",
            "No. Observations:                   8   AIC:                             43.17\n",
            "Df Residuals:                       6   BIC:                             43.33\n",
            "Df Model:                           1                                         \n",
            "Covariance Type:            nonrobust                                         \n",
            "==============================================================================\n",
            "                 coef    std err          t      P>|t|      [0.025      0.975]\n",
            "------------------------------------------------------------------------------\n",
            "const         11.8599      2.079      5.705      0.001       6.773      16.947\n",
            "x             -0.2242      0.066     -3.389      0.015      -0.386      -0.062\n",
            "==============================================================================\n",
            "Omnibus:                        1.672   Durbin-Watson:                   0.824\n",
            "Prob(Omnibus):                  0.433   Jarque-Bera (JB):                0.817\n",
            "Skew:                           0.738   Prob(JB):                        0.665\n",
            "Kurtosis:                       2.482   Cond. No.                         57.2\n",
            "==============================================================================\n",
            "\n",
            "Warnings:\n",
            "[1] Standard Errors assume that the covariance matrix of the errors is correctly specified.\n"
          ]
        },
        {
          "output_type": "stream",
          "name": "stderr",
          "text": [
            "/usr/local/lib/python3.7/dist-packages/statsmodels/tsa/tsatools.py:117: FutureWarning: In a future version of pandas all arguments of concat except for the argument 'objs' will be keyword-only\n",
            "  x = pd.concat(x[::order], 1)\n",
            "/usr/local/lib/python3.7/dist-packages/scipy/stats/stats.py:1535: UserWarning: kurtosistest only valid for n>=20 ... continuing anyway, n=8\n",
            "  \"anyway, n=%i\" % int(n))\n"
          ]
        }
      ]
    },
    {
      "cell_type": "code",
      "source": [
        "#@title Resposta b)\n",
        "x=dfries['x']\n",
        "y=dfries['y']\n",
        "vtx=np.log(x)\n",
        "vty=np.log(y)\n",
        "plt.scatter(vtx,vty)\n",
        "plt.xlabel('Tempo de fritura (s)');\n",
        "plt.ylabel('Teor de umidade (%)')\n",
        "plt.title('Gráfico com variáveis x e y transformadas')\n",
        "plt.grid(True)\n",
        "plt.show()"
      ],
      "metadata": {
        "colab": {
          "base_uri": "https://localhost:8080/",
          "height": 375
        },
        "id": "WCoKNygvjTHy",
        "outputId": "f8777dbb-8344-4ab1-bb46-3b669ff68f28"
      },
      "execution_count": 8,
      "outputs": [
        {
          "output_type": "display_data",
          "data": {
            "text/plain": [
              "<Figure size 576x396 with 1 Axes>"
            ],
            "image/png": "[encoded data removed]"
          },
          "metadata": {}
        }
      ]
    },
    {
      "cell_type": "code",
      "source": [
        "dfries2 = pd.DataFrame(list(zip(x, y, vtx, vty)),\n",
        "               columns =[\"x\",\"y\",\"ln_x\",\"ln_y\"])\n",
        "dfries2.head()"
      ],
      "metadata": {
        "colab": {
          "base_uri": "https://localhost:8080/",
          "height": 206
        },
        "id": "i1NnNrezkAXb",
        "outputId": "a30e82a0-f9ad-4c2e-f26b-abd9ef4ed6c2"
      },
      "execution_count": 9,
      "outputs": [
        {
          "output_type": "execute_result",
          "data": {
            "text/plain": [
              "    x     y      ln_x      ln_y\n",
              "0   5  16.3  1.609438  2.791165\n",
              "1  10   9.7  2.302585  2.272126\n",
              "2  15   8.1  2.708050  2.091864\n",
              "3  20   4.2  2.995732  1.435085\n",
              "4  25   3.4  3.218876  1.223775"
            ],
            "text/html": [
              "\n",
              "  <div id=\"df-c6221950-2f4a-441e-92b6-3f8b1b02b857\">\n",
              "    <div class=\"colab-df-container\">\n",
              "      <div>\n",
              "<style scoped>\n",
              "    .dataframe tbody tr th:only-of-type {\n",
              "        vertical-align: middle;\n",
              "    }\n",
              "\n",
              "    .dataframe tbody tr th {\n",
              "        vertical-align: top;\n",
              "    }\n",
              "\n",
              "    .dataframe thead th {\n",
              "        text-align: right;\n",
              "    }\n",
              "</style>\n",
              "<table border=\"1\" class=\"dataframe\">\n",
              "  <thead>\n",
              "    <tr style=\"text-align: right;\">\n",
              "      <th></th>\n",
              "      <th>x</th>\n",
              "      <th>y</th>\n",
              "      <th>ln_x</th>\n",
              "      <th>ln_y</th>\n",
              "    </tr>\n",
              "  </thead>\n",
              "  <tbody>\n",
              "    <tr>\n",
              "      <th>0</th>\n",
              "      <td>5</td>\n",
              "      <td>16.3</td>\n",
              "      <td>1.609438</td>\n",
              "      <td>2.791165</td>\n",
              "    </tr>\n",
              "    <tr>\n",
              "      <th>1</th>\n",
              "      <td>10</td>\n",
              "      <td>9.7</td>\n",
              "      <td>2.302585</td>\n",
              "      <td>2.272126</td>\n",
              "    </tr>\n",
              "    <tr>\n",
              "      <th>2</th>\n",
              "      <td>15</td>\n",
              "      <td>8.1</td>\n",
              "      <td>2.708050</td>\n",
              "      <td>2.091864</td>\n",
              "    </tr>\n",
              "    <tr>\n",
              "      <th>3</th>\n",
              "      <td>20</td>\n",
              "      <td>4.2</td>\n",
              "      <td>2.995732</td>\n",
              "      <td>1.435085</td>\n",
              "    </tr>\n",
              "    <tr>\n",
              "      <th>4</th>\n",
              "      <td>25</td>\n",
              "      <td>3.4</td>\n",
              "      <td>3.218876</td>\n",
              "      <td>1.223775</td>\n",
              "    </tr>\n",
              "  </tbody>\n",
              "</table>\n",
              "</div>\n",
              "      <button class=\"colab-df-convert\" onclick=\"convertToInteractive('df-c6221950-2f4a-441e-92b6-3f8b1b02b857')\"\n",
              "              title=\"Convert this dataframe to an interactive table.\"\n",
              "              style=\"display:none;\">\n",
              "        \n",
              "  <svg xmlns=\"http://www.w3.org/2000/svg\" height=\"24px\"viewBox=\"0 0 24 24\"\n",
              "       width=\"24px\">\n",
              "    <path d=\"M0 0h24v24H0V0z\" fill=\"none\"/>\n",
              "    <path d=\"M18.56 5.44l.94 2.06.94-2.06 2.06-.94-2.06-.94-.94-2.06-.94 2.06-2.06.94zm-11 1L8.5 8.5l.94-2.06 2.06-.94-2.06-.94L8.5 2.5l-.94 2.06-2.06.94zm10 10l.94 2.06.94-2.06 2.06-.94-2.06-.94-.94-2.06-.94 2.06-2.06.94z\"/><path d=\"M17.41 7.96l-1.37-1.37c-.4-.4-.92-.59-1.43-.59-.52 0-1.04.2-1.43.59L10.3 9.45l-7.72 7.72c-.78.78-.78 2.05 0 2.83L4 21.41c.39.39.9.59 1.41.59.51 0 1.02-.2 1.41-.59l7.78-7.78 2.81-2.81c.8-.78.8-2.07 0-2.86zM5.41 20L4 18.59l7.72-7.72 1.47 1.35L5.41 20z\"/>\n",
              "  </svg>\n",
              "      </button>\n",
              "      \n",
              "  <style>\n",
              "    .colab-df-container {\n",
              "      display:flex;\n",
              "      flex-wrap:wrap;\n",
              "      gap: 12px;\n",
              "    }\n",
              "\n",
              "    .colab-df-convert {\n",
              "      background-color: #E8F0FE;\n",
              "      border: none;\n",
              "      border-radius: 50%;\n",
              "      cursor: pointer;\n",
              "      display: none;\n",
              "      fill: #1967D2;\n",
              "      height: 32px;\n",
              "      padding: 0 0 0 0;\n",
              "      width: 32px;\n",
              "    }\n",
              "\n",
              "    .colab-df-convert:hover {\n",
              "      background-color: #E2EBFA;\n",
              "      box-shadow: 0px 1px 2px rgba(60, 64, 67, 0.3), 0px 1px 3px 1px rgba(60, 64, 67, 0.15);\n",
              "      fill: #174EA6;\n",
              "    }\n",
              "\n",
              "    [theme=dark] .colab-df-convert {\n",
              "      background-color: #3B4455;\n",
              "      fill: #D2E3FC;\n",
              "    }\n",
              "\n",
              "    [theme=dark] .colab-df-convert:hover {\n",
              "      background-color: #434B5C;\n",
              "      box-shadow: 0px 1px 3px 1px rgba(0, 0, 0, 0.15);\n",
              "      filter: drop-shadow(0px 1px 2px rgba(0, 0, 0, 0.3));\n",
              "      fill: #FFFFFF;\n",
              "    }\n",
              "  </style>\n",
              "\n",
              "      <script>\n",
              "        const buttonEl =\n",
              "          document.querySelector('#df-c6221950-2f4a-441e-92b6-3f8b1b02b857 button.colab-df-convert');\n",
              "        buttonEl.style.display =\n",
              "          google.colab.kernel.accessAllowed ? 'block' : 'none';\n",
              "\n",
              "        async function convertToInteractive(key) {\n",
              "          const element = document.querySelector('#df-c6221950-2f4a-441e-92b6-3f8b1b02b857');\n",
              "          const dataTable =\n",
              "            await google.colab.kernel.invokeFunction('convertToInteractive',\n",
              "                                                     [key], {});\n",
              "          if (!dataTable) return;\n",
              "\n",
              "          const docLinkHtml = 'Like what you see? Visit the ' +\n",
              "            '<a target=\"_blank\" href=https://colab.research.google.com/notebooks/data_table.ipynb>data table notebook</a>'\n",
              "            + ' to learn more about interactive tables.';\n",
              "          element.innerHTML = '';\n",
              "          dataTable['output_type'] = 'display_data';\n",
              "          await google.colab.output.renderOutput(dataTable, element);\n",
              "          const docLink = document.createElement('div');\n",
              "          docLink.innerHTML = docLinkHtml;\n",
              "          element.appendChild(docLink);\n",
              "        }\n",
              "      </script>\n",
              "    </div>\n",
              "  </div>\n",
              "  "
            ]
          },
          "metadata": {},
          "execution_count": 9
        }
      ]
    },
    {
      "cell_type": "code",
      "source": [
        "#@title Resposta c)\n",
        "#adicionar uma constante preditora\n",
        "vtx = sm.add_constant(vtx)\n",
        "#fit linear regression model\n",
        "modelo = sm.OLS(vty, vtx).fit() #atenção esta variável será usada no IC\n",
        "print(modelo.summary())"
      ],
      "metadata": {
        "colab": {
          "base_uri": "https://localhost:8080/"
        },
        "id": "cEP2uQL5nhDl",
        "outputId": "d3968b0b-084a-4310-bdf8-25f4dc7d4e15"
      },
      "execution_count": 10,
      "outputs": [
        {
          "output_type": "stream",
          "name": "stdout",
          "text": [
            "                            OLS Regression Results                            \n",
            "==============================================================================\n",
            "Dep. Variable:                      y   R-squared:                       0.976\n",
            "Model:                            OLS   Adj. R-squared:                  0.971\n",
            "Method:                 Least Squares   F-statistic:                     239.1\n",
            "Date:                Thu, 28 Apr 2022   Prob (F-statistic):           4.63e-06\n",
            "Time:                        01:30:00   Log-Likelihood:                 5.2525\n",
            "No. Observations:                   8   AIC:                            -6.505\n",
            "Df Residuals:                       6   BIC:                            -6.346\n",
            "Df Model:                           1                                         \n",
            "Covariance Type:            nonrobust                                         \n",
            "==============================================================================\n",
            "                 coef    std err          t      P>|t|      [0.025      0.975]\n",
            "------------------------------------------------------------------------------\n",
            "const          4.6384      0.211     21.978      0.000       4.122       5.155\n",
            "x             -1.0492      0.068    -15.462      0.000      -1.215      -0.883\n",
            "==============================================================================\n",
            "Omnibus:                        8.964   Durbin-Watson:                   1.881\n",
            "Prob(Omnibus):                  0.011   Jarque-Bera (JB):                2.783\n",
            "Skew:                           1.325   Prob(JB):                        0.249\n",
            "Kurtosis:                       4.154   Cond. No.                         14.1\n",
            "==============================================================================\n",
            "\n",
            "Warnings:\n",
            "[1] Standard Errors assume that the covariance matrix of the errors is correctly specified.\n"
          ]
        },
        {
          "output_type": "stream",
          "name": "stderr",
          "text": [
            "/usr/local/lib/python3.7/dist-packages/statsmodels/tsa/tsatools.py:117: FutureWarning: In a future version of pandas all arguments of concat except for the argument 'objs' will be keyword-only\n",
            "  x = pd.concat(x[::order], 1)\n",
            "/usr/local/lib/python3.7/dist-packages/scipy/stats/stats.py:1535: UserWarning: kurtosistest only valid for n>=20 ... continuing anyway, n=8\n",
            "  \"anyway, n=%i\" % int(n))\n"
          ]
        }
      ]
    },
    {
      "cell_type": "code",
      "source": [
        "# parâmetros da reta\n",
        "b=modelo.params\n",
        "b0=b[0] #intercepto\n",
        "b1=b[1] #inclinação\n",
        "print('y= {0}{1} x'.format(b0,b1))"
      ],
      "metadata": {
        "colab": {
          "base_uri": "https://localhost:8080/"
        },
        "id": "1g7mrWG5oBji",
        "outputId": "7f060afb-19a0-4515-9ce5-ec5b6b9f3d32"
      },
      "execution_count": 11,
      "outputs": [
        {
          "output_type": "stream",
          "name": "stdout",
          "text": [
            "y= 4.638414883849997-1.049198121311452 x\n"
          ]
        }
      ]
    },
    {
      "cell_type": "code",
      "source": [
        "from numpy.core.fromnumeric import mean\n",
        "#@title Resposta d)\n"
      ],
      "metadata": {
        "id": "7_pXMPMY0Lpg"
      },
      "execution_count": 12,
      "outputs": []
    },
    {
      "cell_type": "code",
      "source": [
        "#usar a tabela tstudent pata t\n",
        "from scipy.stats import t\n",
        "alpha = 0.05  # nível de significia = 5% \n",
        "df = len(x) - 2 # gl (n - 2)                                     \n",
        "v = t.ppf(1 - alpha/2, df) \n",
        "print(f't=: {v}') "
      ],
      "metadata": {
        "colab": {
          "base_uri": "https://localhost:8080/"
        },
        "id": "E7Er0Ow89zub",
        "outputId": "96f682d0-fba2-4e45-84f3-0e244b3f3bdd"
      },
      "execution_count": 13,
      "outputs": [
        {
          "output_type": "stream",
          "name": "stdout",
          "text": [
            "t=: 2.4469118487916806\n"
          ]
        }
      ]
    },
    {
      "cell_type": "markdown",
      "source": [
        "Uma fórmula alternativa de SQE é\n",
        "\n",
        "$SQE=∑(y_i - \\hat{y}_i)$\n",
        "\n",
        "$s^2=\\frac{SQE}{n-2}$\n",
        "\n",
        "$s=\\sqrt(s^2)$\n",
        "\n",
        "e $s_{\\hat{Y}}=s\\sqrt(\\frac{1}{n}+\\frac{(x^* -\\bar{x})^2}{S_{XX}})$\n"
      ],
      "metadata": {
        "id": "AZwjnr_3j37a"
      }
    },
    {
      "cell_type": "code",
      "source": [
        "x=dfries['x']\n",
        "y=dfries['y']\n",
        "vtx=np.log(x)\n",
        "vty=np.log(y)\n",
        "y_pred=list(modelo.predict())\n",
        "#sns.resid(modelo)\n",
        "resi=(modelo.resid)\n",
        "#SQE = residuos ao quadrado\n",
        "sqe=np.sum(resi*resi) \n",
        "gl=modelo.df_resid  #gl=n-2\n",
        "s2=sqe/gl\n",
        "s=pow(s2,1/2)\n",
        "sqe,s2,s"
      ],
      "metadata": {
        "id": "gGsfwEsLvzZ0",
        "colab": {
          "base_uri": "https://localhost:8080/"
        },
        "outputId": "0fb9ef8d-b280-4f56-ec6d-bd8ab1037b6b"
      },
      "execution_count": 14,
      "outputs": [
        {
          "output_type": "execute_result",
          "data": {
            "text/plain": [
              "(0.1259894484543931, 0.02099824140906552, 0.14490769961967348)"
            ]
          },
          "metadata": {},
          "execution_count": 14
        }
      ]
    },
    {
      "cell_type": "code",
      "source": [
        "vtxs=np.log(20) #x*=ln(20)\n",
        "vtxm=vtx.mean()\n",
        "n=modelo.df_resid + 2 #gl+2=n (graus de liberdade mais 2)\n",
        "xx=np.sum(vtx*vtx) # Soma dos quadrados dos valores obtidos de x\n",
        "xau=np.sum(vtx) # Soma dos valores obtidos de x\n",
        "sxx=xx-xau*xau/n # Diferença entre 'Soma dos quadrados de x' e 'o quadrado da Soma dos x', dividida por n\n",
        "sy=s*pow(((1/n)+(vtxs-vtxm)*(vtxs-vtxm)/sxx),1/2) # Cálculo da variância de y\n",
        "sy\n"
      ],
      "metadata": {
        "colab": {
          "base_uri": "https://localhost:8080/"
        },
        "id": "DMzuRrHr3zQK",
        "outputId": "5a84a44e-9547-4ea3-d096-e1c51c092ec9"
      },
      "execution_count": 15,
      "outputs": [
        {
          "output_type": "execute_result",
          "data": {
            "text/plain": [
              "0.05125314354652712"
            ]
          },
          "metadata": {},
          "execution_count": 15
        }
      ]
    },
    {
      "cell_type": "code",
      "source": [
        "#valor esperado de y para x=ln(20)\n",
        "yln20=b0+b1*vtxs\n",
        "yln20"
      ],
      "metadata": {
        "colab": {
          "base_uri": "https://localhost:8080/"
        },
        "id": "5ZSV8L4WyY7u",
        "outputId": "8dc15723-8092-473c-bc62-7c3165dd7b22"
      },
      "execution_count": 16,
      "outputs": [
        {
          "output_type": "execute_result",
          "data": {
            "text/plain": [
              "1.4952982104850645"
            ]
          },
          "metadata": {},
          "execution_count": 16
        }
      ]
    },
    {
      "cell_type": "markdown",
      "source": [
        "Finalizar cálculo do intervalo de previsão"
      ],
      "metadata": {
        "id": "5uM6NIrx0R_B"
      }
    },
    {
      "cell_type": "code",
      "source": [
        "sya=pow((s2+sy*sy),1/2)\n",
        "#IP do valor esperado para um valor específico de x \n",
        "IPyln20=([yln20-v*sya,yln20+v*sya])\n",
        "import math\n",
        "IPye200=pow(math.e,IPyln20[0])\n",
        "IPye201=pow(math.e,IPyln20[1])\n",
        "IPyln20,IPye200,IPye201"
      ],
      "metadata": {
        "colab": {
          "base_uri": "https://localhost:8080/"
        },
        "id": "qNHfobbV9aMU",
        "outputId": "3194461f-4dee-4782-a3ff-60465cd221c8"
      },
      "execution_count": 18,
      "outputs": [
        {
          "output_type": "execute_result",
          "data": {
            "text/plain": [
              "([1.119196427848415, 1.871399993121714], 3.0623923610729658, 6.497386331053654)"
            ]
          },
          "metadata": {},
          "execution_count": 18
        }
      ]
    },
    {
      "cell_type": "code",
      "source": [
        "#@title resposta e)\n",
        "#x=dfries['x']\n",
        "#y=dfries['y']\n",
        "#vtx=np.log(x)\n",
        "#vty=np.log(y)\n",
        "#y_pred=list(modelo.predict())\n",
        "##sns.resid(modelo)\n",
        "resi=list(modelo.resid)\n",
        "#crear instancia influence\n",
        "influence = modelo.get_influence()\n",
        "#obter residuos standardizados\n",
        "stdresid = list(influence.resid_studentized_internal)\n",
        "prop=np.divide(resi,stdresid) #e/e* para verificar a proporcionalidade entre o erro e o erro padronizado\n",
        "dft2 = pd.DataFrame(list(zip(vtx, vty, y_pred, resi, stdresid, prop)),\n",
        "               columns =[\"x\",\"y\",\"yc\",\"e\",\"e*\",\"e/e*\"])\n",
        "dft2 "
      ],
      "metadata": {
        "colab": {
          "base_uri": "https://localhost:8080/",
          "height": 300
        },
        "id": "1qtWbb5gv5PZ",
        "outputId": "4d9c6a9f-71e5-4eef-89f2-3e967b481954"
      },
      "execution_count": 20,
      "outputs": [
        {
          "output_type": "execute_result",
          "data": {
            "text/plain": [
              "          x         y        yc         e        e*      e/e*\n",
              "0  1.609438  2.791165  2.949796 -0.158631 -1.649456  0.096171\n",
              "1  2.302585  2.272126  2.222547  0.049579  0.391681  0.126580\n",
              "2  2.708050  2.091864  1.797134  0.294730  2.200852  0.133916\n",
              "3  2.995732  1.435085  1.495298 -0.060214 -0.444247  0.135541\n",
              "4  3.218876  1.223775  1.261176 -0.037401 -0.277341  0.134855\n",
              "5  3.401197  1.064711  1.069885 -0.005174 -0.038898  0.133019\n",
              "6  3.806662  0.641854  0.644472 -0.002618 -0.021025  0.124511\n",
              "7  4.094345  0.262364  0.342636 -0.080272 -0.703222  0.114149"
            ],
            "text/html": [
              "\n",
              "  <div id=\"df-3500804e-b426-4159-8a13-970b9c37c676\">\n",
              "    <div class=\"colab-df-container\">\n",
              "      <div>\n",
              "<style scoped>\n",
              "    .dataframe tbody tr th:only-of-type {\n",
              "        vertical-align: middle;\n",
              "    }\n",
              "\n",
              "    .dataframe tbody tr th {\n",
              "        vertical-align: top;\n",
              "    }\n",
              "\n",
              "    .dataframe thead th {\n",
              "        text-align: right;\n",
              "    }\n",
              "</style>\n",
              "<table border=\"1\" class=\"dataframe\">\n",
              "  <thead>\n",
              "    <tr style=\"text-align: right;\">\n",
              "      <th></th>\n",
              "      <th>x</th>\n",
              "      <th>y</th>\n",
              "      <th>yc</th>\n",
              "      <th>e</th>\n",
              "      <th>e*</th>\n",
              "      <th>e/e*</th>\n",
              "    </tr>\n",
              "  </thead>\n",
              "  <tbody>\n",
              "    <tr>\n",
              "      <th>0</th>\n",
              "      <td>1.609438</td>\n",
              "      <td>2.791165</td>\n",
              "      <td>2.949796</td>\n",
              "      <td>-0.158631</td>\n",
              "      <td>-1.649456</td>\n",
              "      <td>0.096171</td>\n",
              "    </tr>\n",
              "    <tr>\n",
              "      <th>1</th>\n",
              "      <td>2.302585</td>\n",
              "      <td>2.272126</td>\n",
              "      <td>2.222547</td>\n",
              "      <td>0.049579</td>\n",
              "      <td>0.391681</td>\n",
              "      <td>0.126580</td>\n",
              "    </tr>\n",
              "    <tr>\n",
              "      <th>2</th>\n",
              "      <td>2.708050</td>\n",
              "      <td>2.091864</td>\n",
              "      <td>1.797134</td>\n",
              "      <td>0.294730</td>\n",
              "      <td>2.200852</td>\n",
              "      <td>0.133916</td>\n",
              "    </tr>\n",
              "    <tr>\n",
              "      <th>3</th>\n",
              "      <td>2.995732</td>\n",
              "      <td>1.435085</td>\n",
              "      <td>1.495298</td>\n",
              "      <td>-0.060214</td>\n",
              "      <td>-0.444247</td>\n",
              "      <td>0.135541</td>\n",
              "    </tr>\n",
              "    <tr>\n",
              "      <th>4</th>\n",
              "      <td>3.218876</td>\n",
              "      <td>1.223775</td>\n",
              "      <td>1.261176</td>\n",
              "      <td>-0.037401</td>\n",
              "      <td>-0.277341</td>\n",
              "      <td>0.134855</td>\n",
              "    </tr>\n",
              "    <tr>\n",
              "      <th>5</th>\n",
              "      <td>3.401197</td>\n",
              "      <td>1.064711</td>\n",
              "      <td>1.069885</td>\n",
              "      <td>-0.005174</td>\n",
              "      <td>-0.038898</td>\n",
              "      <td>0.133019</td>\n",
              "    </tr>\n",
              "    <tr>\n",
              "      <th>6</th>\n",
              "      <td>3.806662</td>\n",
              "      <td>0.641854</td>\n",
              "      <td>0.644472</td>\n",
              "      <td>-0.002618</td>\n",
              "      <td>-0.021025</td>\n",
              "      <td>0.124511</td>\n",
              "    </tr>\n",
              "    <tr>\n",
              "      <th>7</th>\n",
              "      <td>4.094345</td>\n",
              "      <td>0.262364</td>\n",
              "      <td>0.342636</td>\n",
              "      <td>-0.080272</td>\n",
              "      <td>-0.703222</td>\n",
              "      <td>0.114149</td>\n",
              "    </tr>\n",
              "  </tbody>\n",
              "</table>\n",
              "</div>\n",
              "      <button class=\"colab-df-convert\" onclick=\"convertToInteractive('df-3500804e-b426-4159-8a13-970b9c37c676')\"\n",
              "              title=\"Convert this dataframe to an interactive table.\"\n",
              "              style=\"display:none;\">\n",
              "        \n",
              "  <svg xmlns=\"http://www.w3.org/2000/svg\" height=\"24px\"viewBox=\"0 0 24 24\"\n",
              "       width=\"24px\">\n",
              "    <path d=\"M0 0h24v24H0V0z\" fill=\"none\"/>\n",
              "    <path d=\"M18.56 5.44l.94 2.06.94-2.06 2.06-.94-2.06-.94-.94-2.06-.94 2.06-2.06.94zm-11 1L8.5 8.5l.94-2.06 2.06-.94-2.06-.94L8.5 2.5l-.94 2.06-2.06.94zm10 10l.94 2.06.94-2.06 2.06-.94-2.06-.94-.94-2.06-.94 2.06-2.06.94z\"/><path d=\"M17.41 7.96l-1.37-1.37c-.4-.4-.92-.59-1.43-.59-.52 0-1.04.2-1.43.59L10.3 9.45l-7.72 7.72c-.78.78-.78 2.05 0 2.83L4 21.41c.39.39.9.59 1.41.59.51 0 1.02-.2 1.41-.59l7.78-7.78 2.81-2.81c.8-.78.8-2.07 0-2.86zM5.41 20L4 18.59l7.72-7.72 1.47 1.35L5.41 20z\"/>\n",
              "  </svg>\n",
              "      </button>\n",
              "      \n",
              "  <style>\n",
              "    .colab-df-container {\n",
              "      display:flex;\n",
              "      flex-wrap:wrap;\n",
              "      gap: 12px;\n",
              "    }\n",
              "\n",
              "    .colab-df-convert {\n",
              "      background-color: #E8F0FE;\n",
              "      border: none;\n",
              "      border-radius: 50%;\n",
              "      cursor: pointer;\n",
              "      display: none;\n",
              "      fill: #1967D2;\n",
              "      height: 32px;\n",
              "      padding: 0 0 0 0;\n",
              "      width: 32px;\n",
              "    }\n",
              "\n",
              "    .colab-df-convert:hover {\n",
              "      background-color: #E2EBFA;\n",
              "      box-shadow: 0px 1px 2px rgba(60, 64, 67, 0.3), 0px 1px 3px 1px rgba(60, 64, 67, 0.15);\n",
              "      fill: #174EA6;\n",
              "    }\n",
              "\n",
              "    [theme=dark] .colab-df-convert {\n",
              "      background-color: #3B4455;\n",
              "      fill: #D2E3FC;\n",
              "    }\n",
              "\n",
              "    [theme=dark] .colab-df-convert:hover {\n",
              "      background-color: #434B5C;\n",
              "      box-shadow: 0px 1px 3px 1px rgba(0, 0, 0, 0.15);\n",
              "      filter: drop-shadow(0px 1px 2px rgba(0, 0, 0, 0.3));\n",
              "      fill: #FFFFFF;\n",
              "    }\n",
              "  </style>\n",
              "\n",
              "      <script>\n",
              "        const buttonEl =\n",
              "          document.querySelector('#df-3500804e-b426-4159-8a13-970b9c37c676 button.colab-df-convert');\n",
              "        buttonEl.style.display =\n",
              "          google.colab.kernel.accessAllowed ? 'block' : 'none';\n",
              "\n",
              "        async function convertToInteractive(key) {\n",
              "          const element = document.querySelector('#df-3500804e-b426-4159-8a13-970b9c37c676');\n",
              "          const dataTable =\n",
              "            await google.colab.kernel.invokeFunction('convertToInteractive',\n",
              "                                                     [key], {});\n",
              "          if (!dataTable) return;\n",
              "\n",
              "          const docLinkHtml = 'Like what you see? Visit the ' +\n",
              "            '<a target=\"_blank\" href=https://colab.research.google.com/notebooks/data_table.ipynb>data table notebook</a>'\n",
              "            + ' to learn more about interactive tables.';\n",
              "          element.innerHTML = '';\n",
              "          dataTable['output_type'] = 'display_data';\n",
              "          await google.colab.output.renderOutput(dataTable, element);\n",
              "          const docLink = document.createElement('div');\n",
              "          docLink.innerHTML = docLinkHtml;\n",
              "          element.appendChild(docLink);\n",
              "        }\n",
              "      </script>\n",
              "    </div>\n",
              "  </div>\n",
              "  "
            ]
          },
          "metadata": {},
          "execution_count": 20
        }
      ]
    },
    {
      "cell_type": "code",
      "source": [
        "#Gráficos de diagnóstico 5 Probabilidade Normal\n",
        "QQ = ProbPlot(influence.resid_studentized_internal)\n",
        "plot_lm_2 = QQ.qqplot(line='45', alpha=0.5, color='#4C72B0', lw=1)\n",
        "plot_lm_2.axes[0].set_xlabel('Percentil')\n",
        "plot_lm_2.axes[0].set_ylabel('Resíduos padronizados')"
      ],
      "metadata": {
        "id": "x9zV7W2_wbGO",
        "outputId": "b09f32ba-83ee-4b92-de5d-abe1cd451828",
        "colab": {
          "base_uri": "https://localhost:8080/",
          "height": 378
        }
      },
      "execution_count": 21,
      "outputs": [
        {
          "output_type": "execute_result",
          "data": {
            "text/plain": [
              "Text(0, 0.5, 'Resíduos padronizados')"
            ]
          },
          "metadata": {},
          "execution_count": 21
        },
        {
          "output_type": "display_data",
          "data": {
            "text/plain": [
              "<Figure size 576x396 with 1 Axes>"
            ],
            "image/png": "[encoded data removed]"
          },
          "metadata": {}
        }
      ]
    }
  ]
}